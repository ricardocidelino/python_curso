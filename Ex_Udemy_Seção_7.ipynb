{
  "nbformat": 4,
  "nbformat_minor": 0,
  "metadata": {
    "colab": {
      "name": "Ex Udemy Seção 7.ipynb",
      "provenance": [],
      "collapsed_sections": [],
      "include_colab_link": true
    },
    "kernelspec": {
      "name": "python3",
      "display_name": "Python 3"
    }
  },
  "cells": [
    {
      "cell_type": "markdown",
      "metadata": {
        "id": "view-in-github",
        "colab_type": "text"
      },
      "source": [
        "<a href=\"https://colab.research.google.com/github/ricardocidelino/python_curso/blob/main/Ex_Udemy_Se%C3%A7%C3%A3o_7.ipynb\" target=\"_parent\"><img src=\"https://colab.research.google.com/assets/colab-badge.svg\" alt=\"Open In Colab\"/></a>"
      ]
    },
    {
      "cell_type": "code",
      "metadata": {
        "id": "UblGi-gWdntl"
      },
      "source": [
        "'''EX 1'''\n",
        "'''B- Armazene uma variável inteira (simples) a soma entre os valores das posições A[0], A[1] e A[5] do vetor e mostre na tela esta soma\n",
        "C- Modifique o vetor na pos 4, atribuindo a esta posição o valor 100\n",
        "D- Mostre na tela cada valor do vetor A, um em cada linha'''\n",
        "a=[1,0,5,-2,-5,7]\n",
        "print(a)\n",
        "a.pop(4)\n",
        "print(a)\n",
        "a.insert(4,100)\n",
        "for i in (a):\n",
        "  print(i)"
      ],
      "execution_count": null,
      "outputs": []
    },
    {
      "cell_type": "code",
      "metadata": {
        "id": "aXxcxknGds1J"
      },
      "source": [
        "'''EX 2'''\n",
        "'''crie um programa que lê 6 valores inteiros e, em seguida, mostre na tela os valores lidos'''\n",
        "lista=[]\n",
        "for n in range(0,6):\n",
        "  valor=int(input('Digite um valor: '))\n",
        "  lista.append(valor)\n",
        "print(lista)"
      ],
      "execution_count": null,
      "outputs": []
    },
    {
      "cell_type": "code",
      "metadata": {
        "id": "1Oj-8WnkdpQS"
      },
      "source": [
        "'''EX 3'''\n",
        "'''Ler um conjunto de números reais, armazenando-o em lista e calcular o quadrado das componetnes deste vetor, \n",
        "armazendando o resultado em outro vetor. \n",
        "Os conjuntos têm 10 elementos cada. Imprimir todos os conjuntos''',\n",
        "conj1=[]\n",
        "conj2=[]\n",
        "for n in range(0,10):\n",
        "  num = int(input('Digite o número: '))\n",
        "  result=num**2\n",
        "  conj1.append(num)\n",
        "  conj2.append(result)\n",
        "print(conj1)\n",
        "print(conj2)"
      ],
      "execution_count": null,
      "outputs": []
    },
    {
      "cell_type": "code",
      "metadata": {
        "id": "ShP3QiP1PipQ",
        "colab": {
          "base_uri": "https://localhost:8080/",
          "height": 34
        },
        "outputId": "56203297-f3cc-4a84-a482-037638aeeb08"
      },
      "source": [
        "'''EX 4'''\n",
        "'''Faça um programa que leia um vetor de 8 posições e, em seguida, \n",
        "leia também dois valores X e Y quaisquer correspondentes a duas posições no vetor. \n",
        "Ao final do seu programa, deverá escrever a soma dos valores encontrados nas respectivas posições X e Y.'''\n",
        "listax=[1,2,3,4,5,6,7,8]\n",
        "listay=[1,2,3,4,5,6,7,8]\n",
        "soma = listax[1]+listay[4]\n",
        "print(soma)"
      ],
      "execution_count": null,
      "outputs": [
        {
          "output_type": "stream",
          "text": [
            "7\n"
          ],
          "name": "stdout"
        }
      ]
    },
    {
      "cell_type": "code",
      "metadata": {
        "id": "_sd4T5nadpX0"
      },
      "source": [
        "'''EX 5'''\n",
        "'''Leia um vetor de 10 posições. Contar e escrever quantos valores pares ele possui.'''\n",
        "lista = list()\n",
        "pares=0\n",
        "for n in range(0,10):\n",
        "  v=int(input('Digite o primeiro valor: '))\n",
        "  if v % 2 ==0:\n",
        "    pares+=1    \n",
        "  lista.append(v)\n",
        "print(pares)"
      ],
      "execution_count": null,
      "outputs": []
    },
    {
      "cell_type": "code",
      "metadata": {
        "id": "BV8-5xCCdpeo"
      },
      "source": [
        "'''EX 6'''\n",
        "'''Faça um programa que receba do usuário um vetor de 10 posições. \n",
        "Em seguida deverá ser impresso o maior e o menor elemento do vetor.'''\n",
        "lista=[]\n",
        "for n in range(0,10):\n",
        "  vetor=int(input('Digite o primeiro valor: '))\n",
        "  lista.append(vetor)\n",
        "print(min(lista))\n",
        "print(max(lista))"
      ],
      "execution_count": null,
      "outputs": []
    },
    {
      "cell_type": "code",
      "metadata": {
        "id": "hF4eS6iBdkjo"
      },
      "source": [
        "'''EX 7'''\n",
        "'''Escreva um programa que leia 10 números inteiros e os armazene em um vetor.\n",
        "Imprima o vetor, o maior elemento e a posição que ele se encontra'''\n",
        "lista=[]\n",
        "for n in range(0,10):\n",
        "  vetor=int(input(f'Digite o {n} valor: '))\n",
        "  lista.append(vetor)\n",
        "lista=list(enumerate(lista))\n",
        "print(max(lista))"
      ],
      "execution_count": null,
      "outputs": []
    },
    {
      "cell_type": "code",
      "metadata": {
        "id": "7mOc3Wrzos1R"
      },
      "source": [
        "'''EX 8'''\n",
        "'''Crie um programa que lê 6 valores inteiros pares e, em seguida, mostre na tela os valores lidos na ordem inversa.'''\n",
        "lista=[]\n",
        "for n in range(0,6):\n",
        "  vetor=int(input(f'Digite o {n} valor: '))\n",
        "  lista.append(vetor)\n",
        "lista.reverse()\n",
        "print(lista)"
      ],
      "execution_count": null,
      "outputs": []
    },
    {
      "cell_type": "code",
      "metadata": {
        "id": "WBZ-aHbqotJs"
      },
      "source": [
        "'''EX 9'''\n",
        "'''Faça um programa para ler a nota da prova de 15 alunos e armazene num vetor, calcule e imprima a média geral.'''\n",
        "lista=[]\n",
        "montante=0\n",
        "for n in range(0,15):\n",
        "  nota=int(input('Digite a nota: '))\n",
        "  montante=montante+nota  \n",
        "  lista.append(nota)\n",
        "media=montante/15\n",
        "print(f'A média de notas dos alunos é de: {media:.1f}')\n"
      ],
      "execution_count": null,
      "outputs": []
    },
    {
      "cell_type": "code",
      "metadata": {
        "id": "sqarunvnosxr"
      },
      "source": [
        "'''EX 11'''\n",
        "'''Faça um programa que preencha um vetor com 10 números reais, \n",
        "calcule e mostre a quantidade de números negativos e a soma dos números positivos desse vetor.'''\n",
        "negativo=[]\n",
        "positivo=[]\n",
        "soma=0\n",
        "for n in range(0,10):\n",
        "  real=int(input(f'Digite o {n+1}º número'))  \n",
        "  if real < 0:\n",
        "    negativo.append(real)    \n",
        "  else:\n",
        "    soma=soma+real\n",
        "    positivo.append(real)\n",
        "print(f'Estes são os números reais negativos: {list(negativo)}')\n",
        "print(f'Estes são os reais positivos: {list(positivo)}')\n",
        "print(f'A soma dos reais positivos: {soma}')"
      ],
      "execution_count": null,
      "outputs": []
    },
    {
      "cell_type": "code",
      "metadata": {
        "id": "IztBD7cKoyq3"
      },
      "source": [
        "'''EX 12'''\n",
        "'''Fazer um programa para ler 5 valores e, em seguida, \n",
        "mostrar todos os valores lidos juntamente com o maior, o menor e a média dos valores'''\n",
        "lista=[]\n",
        "soma=0\n",
        "for n in range(0,5):\n",
        "  valor=int(input(f'Digite o {n}º valor: '))\n",
        "  soma=valor+soma\n",
        "  lista.append(valor)\n",
        "  media=soma/5\n",
        "print(f'Valores digitados: {list(lista)}\\nMaior valor: {max(lista)}\\nMenor valor: {min(lista)} \\nMédia de valores: {media:.1f}')"
      ],
      "execution_count": null,
      "outputs": []
    },
    {
      "cell_type": "code",
      "metadata": {
        "id": "a90UIL8Eo2-y"
      },
      "source": [
        "'''EX 13'''\n",
        "'''fazer um programa para ler 5 valores e, mostrar a posição onde se encontram o maior e menor valor'''\n",
        "lista=[]\n",
        "for i,n in enumerate(lista):\n",
        "  valor=int(input('Digite o valor: '))\n",
        "  lista.append(valor)\n",
        "print(max(i,lista))"
      ],
      "execution_count": null,
      "outputs": []
    },
    {
      "cell_type": "code",
      "metadata": {
        "id": "KIx2Z5Bto01j"
      },
      "source": [
        "'''EX 14'''\n",
        "'''Faça um programa que leia um vetor de 10 posições se existem valores iguais e os escreva na tela'''\n",
        "vetor = []\n",
        "repetidos = []\n",
        "for n in range(0,10):\n",
        "  num=int(input(f'{n+1}º valor: '))\n",
        "  vetor.append(num) \n",
        "\n",
        "for valor in vetor:\n",
        "  if vetor.count(valor) > 1 and valor not in repetidos:\n",
        "    repetidos.append(valor)\n",
        "    print(f'O valor {valor} repete na lista {vetor.count(valor)} vezes')\n",
        "print(vetor)"
      ],
      "execution_count": null,
      "outputs": []
    },
    {
      "cell_type": "code",
      "metadata": {
        "id": "Z6xOJs_2o18b"
      },
      "source": [
        "'''EX 15'''  \n",
        "'''Leia um vetor com 20 números inteiros. Escreva os elementos do vetor eliminando elementos repetidos.'''\n",
        "vetor=[]\n",
        "for n in range(0,20):\n",
        "  num=int(input(f'{n+1}º número: '))\n",
        "  if num not in vetor:    \n",
        "    vetor.append(num)\n",
        "print(vetor)"
      ],
      "execution_count": null,
      "outputs": []
    },
    {
      "cell_type": "code",
      "metadata": {
        "id": "VWWrvXl2o4Qm"
      },
      "source": [
        "'''EX 16''' \n",
        "'''Faça um programa que leia um vetor de 5 posições para números reais e, depois, um código inteiro. \n",
        "Se o código for zero, finalize o programa, \n",
        "se for 1, mostre o vetor na ordem direta, \n",
        "se for 2, mostre o vetor na ordem inversa. \n",
        "Caso o código for diferente de 1 e 2, escreva uma mensagem que o código é inválido.'''\n",
        "vetor=[]\n",
        "for n in range(0,5):\n",
        "  num=int(input(f'Digite o {n}ª no vetor: '))\n",
        "  vetor.append(num)\n",
        "word=int(input('Digite um código: '))\n",
        "vetor.append(word)\n",
        "print('Escolha entre os códigos abaixo: \\n1- Na ordem\\n2- Inverso\\n0- Finalizar\\n')\n",
        "cod=str(input(': '))\n",
        "  if cod in '1':\n",
        "    print(vetor.sort()) #em ordem\n",
        "  elif cod in '2':    \n",
        "    print(vetor.reverse()) #reverso\n",
        "  elif cod in '0':\n",
        "    print(vetor)\n",
        "    print('Programa encerrado')\n",
        "  else:\n",
        "    print(vetor)\n",
        "    print('Código inválido.')    "
      ],
      "execution_count": null,
      "outputs": []
    },
    {
      "cell_type": "code",
      "metadata": {
        "id": "iY88isi-o5Tc"
      },
      "source": [
        "'''EX 17''' \n",
        "'''Leia um vetor de 10 posições e atribua valor 0 para todos os elementos que possuírem valores negativos'''\n",
        "vetor=[]\n",
        "for n in range(0,10):\n",
        "  num=int(input(f'Digite o {n} número: '))\n",
        "  if num > 0:\n",
        "    vetor.append(num)\n",
        "  else:\n",
        "    vetor.append(0)\n",
        "print(vetor)"
      ],
      "execution_count": null,
      "outputs": []
    },
    {
      "cell_type": "code",
      "metadata": {
        "id": "hbmY-k1Io6dd"
      },
      "source": [
        "'''EX 18'''  \n",
        "'''Faça um programa que leia um vetor de 10 números. \n",
        "Leia um número x. Conte os múltiplos de um número inteiro x num vetor e mostre-os na tela'''\n",
        "multiplos=[]\n",
        "num=int(input(\"Digite o número maior que '0' para procurar seus múltiplos: \"))\n",
        "for n in range(1,11):    \n",
        "  mult=num*n\n",
        "  multiplos.append(mult)  \n",
        "print(multiplos)\n"
      ],
      "execution_count": null,
      "outputs": []
    },
    {
      "cell_type": "code",
      "metadata": {
        "id": "a9eJw21Xy4A9"
      },
      "source": [
        "'''EX 19''' \n",
        "'''Faça um vetor de tamanho 50 preenchido com o seguinte valor: (i+5*i)%(i+1), sendo i a posição do elemento no vetor. \n",
        "Em seguida imprima o vetor na tela.'''\n",
        "lista = []\n",
        "for i in range(0, 50):\n",
        "    a = (i+5*i)%(i+1)\n",
        "    lista.append(a)\n",
        "\n",
        "print(lista)"
      ],
      "execution_count": null,
      "outputs": []
    },
    {
      "cell_type": "code",
      "metadata": {
        "id": "kptYfF7Zo9HU"
      },
      "source": [
        "'''EX 20'''\n",
        "'''Escreva um programma que leia números inteiros no intervalo [0,50] e os armazene em um vetor com 10 posições.\n",
        " Preencha um segundo vetor apenas com os números ímpares do primeiro vetor. Imprima os 2 vetores, 2 por linha'''\n",
        "vetor = []\n",
        "vetor_impar = []\n",
        "v = 0\n",
        "from random import random\n",
        " \n",
        "for i in range(10):\n",
        "    n = int(random()*50)#número randômico gerado entre [0, 50]\n",
        "    if n % 2 == 1:\n",
        "        vetor_impar.append(n)\n",
        "    vetor.append(n)\n",
        "print(f'Vetor: {vetor}')\n",
        "print(f'Vetor ímpar: {vetor_impar}')\n",
        "tamanho_impar = len(vetor_impar)#Verificar o tamanho do vetor de números ímpares\n",
        "# print(f'Tamanho do vetor ímpar:{tamanho_impar}')\n",
        "for i in range(10):#loop_For, para por os elementos contidos no vetor em cada linha\n",
        "    if i < tamanho_impar:\n",
        "        print(f'  |{vetor[i]}|  |{vetor_impar[i]}|')\n",
        "    else:\n",
        "        print(f'  |{vetor[i]}|')"
      ],
      "execution_count": null,
      "outputs": []
    },
    {
      "cell_type": "code",
      "metadata": {
        "id": "qusrNwLLo-wk"
      },
      "source": [
        "'''EX 21''' \n",
        "'''Faça um programa que receba do usuário 2 vetores, A e B, com 10 números inteiros cada. \n",
        "Crie um novo vetor denominado C calculando C= A-B. Mostre na tela dados do vetor C'''\n",
        "vetor_a=[]\n",
        "vetor_b=[]\n",
        "vetor_c=[]\n",
        "for x in range(0,10):\n",
        "  a=int(input(f'Digite o {x+1}º número para o conjunto A: ')) \n",
        "  vetor_a.append(a)\n",
        "  b=int(input(f'Digite o {x+1}º número para o conjunto B: '))\n",
        "  vetor_b.append(b)\n",
        "  c=a-b\n",
        "  vetor_c.append(c)\n",
        "\n",
        "#print(f'conjunto A: {vetor_a}')\n",
        "#print(f'conjunto B: {vetor_b}')\n",
        "print(f'conjunto C: {vetor_c}')"
      ],
      "execution_count": null,
      "outputs": []
    },
    {
      "cell_type": "code",
      "metadata": {
        "id": "uHNYgm0Do_4A"
      },
      "source": [
        "'''EX 22''' \n",
        "'''Faça um programa que leia 2 vetores de 10 posições e calcule outro vetor contendo: \n",
        "Nas posições pares, os valores do primeiro e nas posições ímpares os valores do segundo.'''\n",
        "vetor_a=[]\n",
        "vetor_b=[]\n",
        "vetor_c=[]\n",
        "for x in range(0,10):\n",
        "  a=int(input(f'{x+1}º número A: '))\n",
        "  vetor_a.append(a)\n",
        "  b=int(input(f'{x+1}º número B: '))\n",
        "  vetor_b.append(b)\n",
        "  if a % 2 == 0:\n",
        "    vetor_c.append(a)\n",
        "  elif b % 2 == 1:\n",
        "    vetor_c.append(b)\n",
        "\n",
        "print(vetor_a)\n",
        "print(vetor_b)\n",
        "print(vetor_c)"
      ],
      "execution_count": null,
      "outputs": []
    },
    {
      "cell_type": "code",
      "metadata": {
        "id": "9h32C692pBOG"
      },
      "source": [
        "'''EX 23'''\n",
        "'''Ler 2 conjuntos de números reais, armazenando-os em vetores e calcular o produto escalar entre eles. \n",
        "Os conjuntos têm 5 elementos cada. Imprimir os 2 conjuntos e o produto escalar, \n",
        "sendo que o produto escalar é dado por x1*y1 + x2*y2... xn*yn'''\n",
        "conj1=[1,2,3,4,5]\n",
        "conj2=[6,7,8,9,10]\n",
        "escala=[]\n",
        "escala.append(conj1[0]+conj2[0])\n",
        "escala.append(conj1[1]+conj2[1])\n",
        "escala.append(conj1[2]+conj2[2])\n",
        "escala.append(conj1[3]+conj2[3])\n",
        "escala.append(conj1[4]+conj2[4])\n",
        "\n",
        "print(escala)"
      ],
      "execution_count": null,
      "outputs": []
    },
    {
      "cell_type": "code",
      "metadata": {
        "id": "TZm2FyPBpEDN"
      },
      "source": [
        "'''EX 24'''\n",
        "'''Faça um programa que leia dez conjuntos de 2 valores, \n",
        "o primeiro representando o número do aluno e o segundo representando a sua altura em metros. \n",
        "Encontre o aluno mais alto e o mais alto. \n",
        "Mostre o número do aluno mais baixo e do mais alto, juntamente com suas alturas.'''\n",
        "lista1=[]\n",
        "lista2=[]\n",
        "maior=0\n",
        "menor=-1\n",
        "for n in range(0,2):\n",
        "  conj1=str(input(f'Digite o {n+1}º valor: ')).title()\n",
        "  conj2=float(input(f'Digite a {n+1}ª altura: '))\n",
        "  \n",
        "  if conj2 > maior:\n",
        "    maior = conj2\n",
        "    alto=conj1\n",
        "  if conj2 < menor or menor < 0:\n",
        "    menor = conj2\n",
        "    baixo=conj1\n",
        "  \n",
        "  lista1.append(conj1)\n",
        "  lista2.append(conj2)\n",
        "\n",
        "print(f'Aluno {alto} é o mais alto com: {maior:.2f}')\n",
        "print(f'Aluno {baixo} é o mais alto com: {menor:.2f}')\n",
        "\n",
        "\n",
        "# solução de outro aluno\n",
        "altura_alunos = dict()\n",
        " \n",
        "for n in range(1, 6):\n",
        "    n = int(input('Número do aluno: '))\n",
        "    altura_alunos[f'Aluno {n}'] = float(input(f'Altura do aluno {n}: '))\n",
        " \n",
        "max = max(altura_alunos.values())\n",
        "min = min(altura_alunos.values())\n",
        "lista_max = list()\n",
        "lista_min = list()\n",
        " \n",
        "for key, values in altura_alunos.items():\n",
        "    if values == max:\n",
        "        lista_max.append(key)\n",
        "    if values == min:\n",
        "        lista_min.append(key)\n",
        " \n",
        "print(f'A maior altura é {max}, cujo código do aluno é:', end=' ')\n",
        "for valores in lista_max:\n",
        "    print(f'{valores}', end=', ')\n",
        " \n",
        "print(f'A menor altura é {min}, cujo código do aluno é:', end=' ')\n",
        "for valores in lista_min:\n",
        "    print(f'{valores}', end=', ')"
      ],
      "execution_count": null,
      "outputs": []
    },
    {
      "cell_type": "code",
      "metadata": {
        "id": "pKJHxtXUpFk_"
      },
      "source": [
        "'''EX 25'''\n",
        "'''Faça um programa que preencha um vetor de tamanho 100 com os 100 primeiros naturais\n",
        " que não são múltiplos de 7 ou que terminam em 7'''\n",
        " "
      ],
      "execution_count": null,
      "outputs": []
    },
    {
      "cell_type": "code",
      "metadata": {
        "id": "0R_vj4eYt4ng"
      },
      "source": [
        "'''EX 27'''\n",
        "'''Leia 10 números inteiros e armazene em um vetor. \n",
        "Em seguida escreva os elementos que são primos e suas respectivas posições no vetor'''\n",
        "\n",
        "lista = []\n",
        "\n",
        "from time import sleep\n",
        "print('Recebendo os dados',end='')\n",
        "print('.',end='')\n",
        "sleep(1)\n",
        "print('.',end='') \n",
        "sleep(1)\n",
        "print('.',end='')\n",
        "sleep(1)\n",
        "for x in range(1, 11):\n",
        "    lista.append(int(input(f'Informe o valor {x}/10: ')))\n",
        "print(lista)\n",
        "print('Recebendo os dados... pronto')\n",
        " print('Recebendo os dados',end='')\n",
        "print('.',end='')\n",
        "sleep(1)\n",
        "print('.',end='') \n",
        "sleep(1)\n",
        "print('.')\n",
        "sleep(1)\n",
        "print('Pronto!')\n",
        "for p, y in enumerate(lista): #p é a posição na lista e y é o valor digitado\n",
        "    for i in range(2, y+1): #\n",
        "        if i != y: # se i for diferente de y\n",
        "            i = y % i #fórmula de número primo\n",
        "            if i != 0: # condicional de número primo\n",
        "                print(f'O valor {y} é primo e está na posição {p} da lista.')\n",
        "                break\n",
        "            else:\n",
        "            \tbreak\n",
        "        else:\n",
        "            break "
      ],
      "execution_count": null,
      "outputs": []
    },
    {
      "cell_type": "code",
      "metadata": {
        "id": "NMtJ_Iyot49c"
      },
      "source": [
        "from time import sleep \n",
        "'''EX 28''' \n",
        "'''Leia 10 números inteiros e armazene em um vetor v. Crie dois novos vetores c1 e c2. \n",
        "Copie os valores ímpares de v para v1 e os valores pares de v para v2\n",
        "Note que cada um dos vetores v1 e v2 têm no máximo 10 elementos, mas nem todos elementos são utilizados.\n",
        "No final escreva os elementos UTILIZADOS de v1 e v2'''\n",
        "arm=[]\n",
        "impar=[]\n",
        "par=[]\n",
        "\n",
        "for v in range (1,11):\n",
        "  num=int(input(f'Digite o {v}/10: '))\n",
        "  arm.append(num)\n",
        "  if num % 2 == 0:\n",
        "    par.append(num)\n",
        "  else:\n",
        "    impar.append(num)\n",
        "\n",
        "print('Separando',end='')\n",
        "sleep(1)\n",
        "print('.',end='')\n",
        "sleep(1)\n",
        "print('.',end='') \n",
        "sleep(1)\n",
        "print('.')\n",
        "sleep(1)\n",
        "print('Pronto!')\n",
        "\n",
        "print(f'Números digitados: {arm}')\n",
        "print(f'Pares: {par}\\nÍmpares: {impar}')"
      ],
      "execution_count": null,
      "outputs": []
    },
    {
      "cell_type": "code",
      "metadata": {
        "id": "By6o4-B6xvaz"
      },
      "source": [
        "'''EX 29''' \n",
        "'''Faça um programa que receba 6 números inteiros e mostre:\n",
        "- Os números pares digitados;\n",
        "- A soma dos números pares digitados;\n",
        "A quantidade de números ímpares digitados.'''\n",
        "par=[]\n",
        "impar=[]\n",
        "soma=0\n",
        "for n in range(1,7):\n",
        "  num=int(input(f'Digite o {n}/6 número:'))\n",
        "  if num % 2 == 0:\n",
        "    par.append(num)\n",
        "    soma+=num\n",
        "  else:\n",
        "    impar.append(num)\n",
        "\n",
        "print(f'Números pares digitados: {par}\\n'\n",
        "    f'Númeroos ímpares digitados: {impar}\\n'\n",
        "    f'Soma dos pares: {soma}')\n"
      ],
      "execution_count": null,
      "outputs": []
    },
    {
      "cell_type": "code",
      "metadata": {
        "id": "7FS4PL9ct42N"
      },
      "source": [
        "'''EX 30'''\n",
        "'''Faça um programa que leia dois vetores de 10 elementos. \n",
        "Crie um vetor que seja a união entre os 2 vetores anteriores, ou seja, \n",
        "que contém apenas os números que estão em ambos os vetores. \n",
        "Não deve conter números repetidos.'''\n",
        "vetor1=[]\n",
        "vetor2=[]\n",
        "vetor3=[vetor1,vetor2]\n",
        "\n",
        "for n in range(1,21):\n",
        "  num=int(input(f'Digite o {n}/20'))\n",
        "  if n < 11:\n",
        "    if num not in vetor1:\n",
        "      vetor1.append(num) \n",
        "  else:\n",
        "    if num not in vetor2:\n",
        "      vetor2.append(num)    \n",
        "\n",
        "print(vetor1)\n",
        "print(vetor2)\n",
        "print(vetor3)"
      ],
      "execution_count": null,
      "outputs": []
    },
    {
      "cell_type": "code",
      "metadata": {
        "id": "bsMNaPz1t4h7"
      },
      "source": [
        "'''EX 31'''\n",
        "'''Faça um programa que leia dois vetores de 10 elementos. \n",
        "Crie um vetor que seja a união entre os 2 vetores anteriores, \n",
        "ou seja, que contém os números dos 2 vetores.\n",
        "Não deve conter números repetidos.'''\n",
        "vetor1=[]\n",
        "vetor2=[]\n",
        "vetor3=[vetor1,vetor2]\n",
        "\n",
        "for n in range(1,21):\n",
        "  num=int(input(f'Digite o {n}/20: '))\n",
        "\n",
        "  if n < 11:\n",
        "    if num not in vetor1 or vetor2:\n",
        "      vetor1.append(num)\n",
        "  else:\n",
        "    if num not in vetor1 or vetor2:\n",
        "      vetor2.append(num)\n",
        "\n",
        "print(vetor3)"
      ],
      "execution_count": null,
      "outputs": []
    },
    {
      "cell_type": "code",
      "metadata": {
        "id": "aKYUvFjyt_HG"
      },
      "source": [
        "'''EX 32''' \n",
        "'''Leia 2 vetores de inteiros x e y, \n",
        "cada um dos 5 elementos (assuma que o usuário não informe elementos repetidos). \n",
        "Calcule e mostre os vetores resultantes em cada caso abaixo:\n",
        "\n",
        "- Soma entre x e y: soma de cada elemento de x como \n",
        "elemento da mesma posição em y.\n",
        "\n",
        "- Produto entre x e y: multiplicação de cada elemento de x com o elemento da mesma posição em y.\n",
        "\n",
        "- Diferença entre x e y: todos os elementos dde x que não existam em y\n",
        "\n",
        "- Interseção entre x e y: apenas os elementos que aparecem nos dois vetores\n",
        "\n",
        "- União entre x e y: todos os elementos de x, e todos os elementos de y que não estão em x.'''\n",
        "x = []\n",
        "y = []\n",
        "z = []\n",
        "lista_dif = []\n",
        "for k in range(1, 6):\n",
        "    x.append(int(input(f'Digite o numero {k}/5: ')))\n",
        " \n",
        "for j in range(1, 6):\n",
        "    y.append(int(input(f'Digite o numero {j}/5: ')))\n",
        "\n",
        "# assuma que o usuario nao informa elementos repetidos:\n",
        "print(f'Vetor x: {list(enumerate(x))}\\nVetor y: {list(enumerate(y))}')\n",
        "\n",
        "for elemX, elemY in zip(x, y):\n",
        "    z.append(elemX + elemY)  # adicionar em z a soma dos elementos de cada lista\n",
        "print('Soma x e y:', z)\n",
        "\n",
        "print('Produto x e y:')\n",
        "for a, b in zip(x, y): #para cada a multiplicado por B em x e y\n",
        "    print(a * b, end=' ')\n",
        "\n",
        "print('\\nDiferenca x e y:\\n', list(set(x) - set(y)))\n",
        "print('\\nIntersecao x e y:\\n', list(set(x).intersection(set(y))))\n",
        "print('\\nUniao x e y:\\n', set(x) | set(y))\n"
      ],
      "execution_count": null,
      "outputs": []
    },
    {
      "cell_type": "code",
      "metadata": {
        "id": "GrZ-o-6Rt_zq"
      },
      "source": [
        "'''EX 33''' \n",
        "'''Faça um programa que leia um vetor de 15 posições e compacte, ou seja, elimine as posições com valor zero.\n",
        "Para isso, todos os elementos a frente do valor zero, devem ser movidos uma posição para trás no vetor.'''\n",
        "vetor=[]\n",
        "for n in range(0,15):\n",
        "  num=int(input(f'Digite o numero {n}/15: '))\n",
        "  #if n > 0:\n",
        "  vetor.append(n)\n",
        "vetor.remove(0)\n",
        "print(vetor)\n"
      ],
      "execution_count": null,
      "outputs": []
    },
    {
      "cell_type": "code",
      "metadata": {
        "id": "maDzYnSet_xN"
      },
      "source": [
        "'''EX 34''' \n",
        "'''Faça um programa que leia 10 números DIFERENTES a serem armazenados em um vetor. \n",
        "Os dados deverão ser armazenados na ordem que forem sendo lidos, \n",
        "sendo que no caso o usuário digite um número que já foi digitado\n",
        " anteriormente, o programa deverá pedir para ele digitar outro número. \n",
        "Note que cada valor digitado pelo usuario deve ser pessquisado no vetor, \n",
        "verificando se ele existe entre os números que já foram fornecidos. \n",
        "Exibir na tela o vetor final que foi digitado.'''\n",
        "vetor=[]\n",
        "\n",
        "while True:\n",
        "  num=int(input(f'Digite o numero: '))\n",
        "  if num in vetor: \n",
        "    num=int(input(f'Repetido: '))\n",
        "    vetor.append(num)\n",
        "    continue\n",
        "  else:\n",
        "    vetor.append(num)\n",
        "  if len(vetor) == 10:\n",
        "    break\n",
        "print(vetor)"
      ],
      "execution_count": null,
      "outputs": []
    },
    {
      "cell_type": "code",
      "metadata": {
        "id": "E2pkj8eLt_u7"
      },
      "source": [
        "'''EX 35''' \n",
        "'''Faça um programa que leia 2 números a e b(positivos e menores que 10000) e:\n",
        "- Crie um vetor onde cada posição é um algarismo do número. a primeira posição é o algarismo menos significativo;\n",
        "- Crie um vetor que seja a soma de a e b, mas faça-o usando apenas os vetores construídos anteriormente.\n",
        "Dica: Some as posições correspondentes. Se a soma ultrapassar 10, subtraia 10 do resultado e some 1 a posição.'''\n",
        "\n",
        "va = list(input('Digite o primeiro número: '))\n",
        "vb = list(input('Digite o segundo número: '))\n",
        "va.reverse()\n",
        "vb.reverse()\n",
        "soma = list()\n",
        "count_aux = 0\n",
        " \n",
        "for i in range(len(va), 5):\n",
        "    va.append(0)\n",
        "for i in range(len(vb), 5):\n",
        "    vb.append(0)\n",
        " \n",
        "for i in range(5):\n",
        "    s = int(va[i]) + int(vb[i]) + count_aux\n",
        "    if s >= 10:\n",
        "        s -= 10\n",
        "        soma.append(s)\n",
        "        count_aux = 1\n",
        "    else:\n",
        "        soma.append(s)\n",
        "        count_aux = 0\n",
        " \n",
        "soma.reverse()\n",
        "print(f'Soma: {soma}')\n",
        " \n",
        "\n",
        "#Opcional para eliminar os zeros a esquerda do resultado da soma de A e B\n",
        "#i = 0\n",
        "#while soma[i] == 0:\n",
        "#    soma.pop(i)\n",
        " \n",
        "#print(f'Soma: {soma}')"
      ],
      "execution_count": null,
      "outputs": []
    },
    {
      "cell_type": "code",
      "metadata": {
        "id": "0JOfX1Yit_sd",
        "colab": {
          "base_uri": "https://localhost:8080/",
          "height": 34
        },
        "outputId": "cc69c493-83d0-44a5-f221-95a6102b969d"
      },
      "source": [
        "'''EX 36''' \n",
        "'''Leia um vetor com 10 números reais, ordene os elementos deste vetor e no final escreva os elementos do vetor ordenado.'''\n",
        "vetor=[5,6,1,2,3,4,10,7,9,8]\n",
        "vetor.sort()\n",
        "print(vetor)"
      ],
      "execution_count": null,
      "outputs": [
        {
          "output_type": "stream",
          "text": [
            "[1, 2, 3, 4, 5, 6, 7, 8, 9, 10]\n"
          ],
          "name": "stdout"
        }
      ]
    },
    {
      "cell_type": "code",
      "metadata": {
        "id": "yL5-48cQt_C2",
        "colab": {
          "base_uri": "https://localhost:8080/",
          "height": 34
        },
        "outputId": "0e6c41e7-959d-497a-f2d4-c20570085005"
      },
      "source": [
        "'''EX 37'''\n",
        "'''Considere um vetor A com 11 elementos onde A1 < A2 .... < A6 > A7 > A8... A11, ou seja, \n",
        "está ordenado em ordem crescente até o sexto elemento, e a partir\n",
        "desse elemento está ordenado em ordem decrescente. Dado o vetor da questão anterior. \n",
        "proponha um algoritmo para ordenar os elementos.'''\n",
        "vetor_a=[1,2,3,4,5,6,11,10,9,8,7]\n",
        "vetor_a.sort()\n",
        "print(vetor_a)"
      ],
      "execution_count": null,
      "outputs": [
        {
          "output_type": "stream",
          "text": [
            "[1, 2, 3, 4, 5, 6, 7, 8, 9, 10, 11]\n"
          ],
          "name": "stdout"
        }
      ]
    },
    {
      "cell_type": "code",
      "metadata": {
        "id": "vj8z1toLyjke"
      },
      "source": [
        "'''Ex 38''' \n",
        "'''Peça ao usuário para digitar 10 valores numéricos e ordene por ordem crescente esses valores\n",
        "guardando-os num vetor. Ordene o valor assim que ele for digitado.\n",
        "Mostre ao final na tela os valores em ordem.'''\n",
        "vetor=[]\n",
        "for n in range(1,11):\n",
        "  vetor.append(int(input(f'Digite o {n}º valor: ')))\n",
        "  vetor.sort()\n",
        "print(vetor)"
      ],
      "execution_count": null,
      "outputs": []
    },
    {
      "cell_type": "code",
      "metadata": {
        "id": "KZZ4Jc2LuG1C"
      },
      "source": [
        "'''EX 39''' \n",
        "'''Escreva um programa que leia um número inteiro positivo n e em \n",
        "seguida, imprima n linhas do chamado Triagulo de Pascal;\n",
        "\n",
        "1\n",
        "1 2 1\n",
        "1 3 3 1\n",
        "1 4 6 4 1\n",
        "1 5 10 10 5 1'''\n",
        "\n",
        "def calcula_posicao(n, k):\n",
        "    if k == 0 or k == n:\n",
        "        return 1\n",
        "    else:\n",
        "        return int(calcula_posicao(n - 1, k - 1)) + int(calcula_posicao(n - 1, k))\n",
        "\n",
        "\n",
        "def pascalLine(linhas):\n",
        "    linhas = linhas + 1\n",
        "    triangulo = []\n",
        "\n",
        "    for linha in range(linhas):\n",
        "        valores_linha = []\n",
        "\n",
        "        for coluna in range(linha + 1):\n",
        "            valores_linha.append(calcula_posicao(linha, coluna))\n",
        "\n",
        "        triangulo.append(valores_linha)\n",
        "\n",
        "    return triangulo\n",
        "\n",
        "\n",
        "print(pascalLine(5))"
      ],
      "execution_count": null,
      "outputs": []
    },
    {
      "cell_type": "code",
      "metadata": {
        "id": "8kWpAYpmDjjg"
      },
      "source": [
        "import random \n",
        "from time import sleep\n",
        "\n",
        "\n",
        "def selection_sort(a):\n",
        "    n = len(minha_lista)\n",
        "    for j in range(0,n):    \n",
        "        min_index = j\n",
        "        for i in range(j,n):\n",
        "            if minha_lista[i] < minha_lista[min_index]:\n",
        "                min_index = i\n",
        "        if minha_lista[j] > minha_lista[min_index]:\n",
        "            aux = minha_lista[j]\n",
        "            minha_lista[j] = minha_lista[min_index]\n",
        "            minha_lista[min_index] = aux\n",
        "    return a\n",
        "\n",
        "\n",
        "numbers=[7,5,1,8,3] \n",
        "lyrics=['w','h','e','c','b','a']\n",
        "sorteio=random.sample(range(1,100),12)\n",
        "\n",
        "minha_lista = numbers\n",
        "\n",
        "print(minha_lista)\n",
        "print(\"\\nOrdenando\\n\")\n",
        "print(selection_sort(minha_lista))\n"
      ],
      "execution_count": null,
      "outputs": []
    },
    {
      "cell_type": "code",
      "metadata": {
        "id": "YOgN9y_rKRPJ"
      },
      "source": [
        "import random \n",
        "\n",
        "def mergeSort(lista):\n",
        "\n",
        "    if len(lista) > 1:\n",
        "\n",
        "        meio = len(lista)//2\n",
        "        #também é valido: meio = int(len(lista)/2)\n",
        "\n",
        "        listaDaEsquerda = lista[:meio]\n",
        "        listaDaDireita = lista[meio:]\n",
        "\n",
        "        mergeSort(listaDaEsquerda)\n",
        "        mergeSort(listaDaDireita)\n",
        "\n",
        "        i = 0\n",
        "        j = 0\n",
        "        k = 0\n",
        "\n",
        "        while i < len(listaDaEsquerda) and j < len(listaDaDireita):\n",
        "\n",
        "            if listaDaEsquerda[i] < listaDaDireita[j]:\n",
        "                lista[k]=listaDaEsquerda[i]\n",
        "                i += 1\n",
        "            else:\n",
        "                lista[k]=listaDaDireita[j]\n",
        "                j += 1\n",
        "            k += 1\n",
        "\n",
        "        while i < len(listaDaEsquerda):\n",
        "\n",
        "            lista[k]=listaDaEsquerda[i]\n",
        "            i += 1\n",
        "            k += 1\n",
        "\n",
        "        while j < len(listaDaDireita):\n",
        "            lista[k]=listaDaDireita[j]\n",
        "            j += 1\n",
        "            k += 1\n",
        "    return lista\n",
        "\n",
        "\n",
        "sorteio=random.sample(range(1,100),12)\n",
        "\n",
        "minha_lista = sorteio\n",
        "\n",
        "print(minha_lista)\n",
        "print('\\nOrdenado\\n')\n",
        "print(mergeSort(minha_lista))"
      ],
      "execution_count": null,
      "outputs": []
    },
    {
      "cell_type": "code",
      "metadata": {
        "id": "r8IoibDjQ5j8"
      },
      "source": [
        "def heapsort(a,n)\n",
        "    i = n / 2, pai, filho, t;\n",
        "    while True:\n",
        "        if i > 0:\n",
        "            i--\n",
        "            t = a[i]\n",
        "        else:\n",
        "            n-- \n",
        "        if n <= 0: return \n",
        "            t = a[n]\n",
        "            a[n] = a[0]\n",
        "      \n",
        "        pai = i\n",
        "        filho = i * 2 + 1\n",
        "        while filho < n:\n",
        "            if filho + 1 < n and a[filho + 1] > a[filho]:\n",
        "                filho++\n",
        "            if a[filho] > t:\n",
        "                a[pai] = a[filho] \n",
        "                pai = filho\n",
        "                filho = pai * 2 + 1\n",
        "            else:\n",
        "                break      \n",
        "        a[pai] = t\n",
        "\n",
        "\n"
      ],
      "execution_count": null,
      "outputs": []
    },
    {
      "cell_type": "code",
      "metadata": {
        "id": "kNIBnNOXp-H3",
        "colab": {
          "base_uri": "https://localhost:8080/"
        },
        "outputId": "8b0e806a-aa03-4c92-a739-31084ad43dbc"
      },
      "source": [
        "salario=float(input(\"Salario: \"))\n",
        "\n",
        "if salario < 400.01:\n",
        "    novo=salario*1.15\n",
        "    reajuste=salario*0.15\n",
        "    percentual=15\n",
        "elif salario < 800.01:\n",
        "    novo=salario*1.12\n",
        "    reajuste=salario*0.12\n",
        "    percentual=12\n",
        "elif salario < 1200.01:\n",
        "    novo=salario*1.10\n",
        "    reajuste=salario*0.10\n",
        "    percentual=10\n",
        "elif salario < 2000.01:\n",
        "    novo=salario*1.07\n",
        "    reajuste=salario*0.07\n",
        "    percentual=7\n",
        "else:\n",
        "    novo=salario*1.04\n",
        "    reajuste=salario*0.04\n",
        "    percentual=4\n",
        "\n",
        "print(f\"Novo salario: {novo:.2f}\")\n",
        "print(f\"Reajuste ganho: {reajuste:.2f}\")\n",
        "print(f\"Em percentual: {percentual} %\")"
      ],
      "execution_count": null,
      "outputs": [
        {
          "output_type": "stream",
          "text": [
            "Salario: 400\n",
            "Novo salario: 460.00\n",
            "Reajuste ganho: 60.00\n",
            "Em percentual: 15 %\n"
          ],
          "name": "stdout"
        }
      ]
    },
    {
      "cell_type": "code",
      "metadata": {
        "id": "9_WDg-XOy2wE"
      },
      "source": [
        "from time import sleep\n",
        "import os \n",
        "horas = minutos = segundos = 0\n",
        "\n",
        "while True:\n",
        "    if segundos < 10:\n",
        "        print(f'{horas}:{minutos}:0{segundos}')\n",
        "        sleep(1)\n",
        "        os.system(\"clear\")\n",
        "    else:\n",
        "        print(f'{horas}:{minutos}:{segundos}')\n",
        "        sleep(1)\n",
        "        os.system(\"clear\")\n",
        "    segundos+=1\n",
        "\n",
        "    if segundos >= 60:\n",
        "        minutos+=1\n",
        "        segundos=0\n",
        "\n",
        "    if minutos >= 60:\n",
        "        horas+=1\n",
        "        minutos=0\n",
        "        segundos=0"
      ],
      "execution_count": null,
      "outputs": []
    },
    {
      "cell_type": "code",
      "metadata": {
        "id": "73fvWbsq2mgh"
      },
      "source": [
        "def line(msg):\n",
        "    msg=int(input(\"Digite a mensagem: \"))\n",
        "    \n",
        "    print('-'*30)\n",
        "\n",
        "\n",
        "frase=str(input(\"Digite a frase: \"))\n",
        "line()\n",
        "print(f'{frase}')\n",
        "line()"
      ],
      "execution_count": null,
      "outputs": []
    }
  ]
}