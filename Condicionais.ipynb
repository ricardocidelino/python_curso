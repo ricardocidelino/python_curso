{
  "nbformat": 4,
  "nbformat_minor": 0,
  "metadata": {
    "colab": {
      "name": "Condicionais.ipynb",
      "provenance": [],
      "include_colab_link": true
    },
    "kernelspec": {
      "name": "python3",
      "display_name": "Python 3"
    }
  },
  "cells": [
    {
      "cell_type": "markdown",
      "metadata": {
        "id": "view-in-github",
        "colab_type": "text"
      },
      "source": [
        "<a href=\"https://colab.research.google.com/github/ricardocidelino/python_curso/blob/main/Condicionais.ipynb\" target=\"_parent\"><img src=\"https://colab.research.google.com/assets/colab-badge.svg\" alt=\"Open In Colab\"/></a>"
      ]
    },
    {
      "cell_type": "markdown",
      "metadata": {
        "id": "wyaHRpMIKKps"
      },
      "source": [
        ""
      ]
    },
    {
      "cell_type": "code",
      "metadata": {
        "id": "qssnl9p2KMk0",
        "colab": {
          "base_uri": "https://localhost:8080/",
          "height": 85
        },
        "outputId": "bbd2ac38-bb01-4f51-dd9e-074cbe85d4ca"
      },
      "source": [
        "while True:\n",
        "  idade=int(input('Digite a idade:'))\n",
        "  if idade > 17:\n",
        "    print('Maior de idade')\n",
        "  else:\n",
        "    print('Menor de idade')\n",
        "  continua=input('Deseja continuar? S/N ')\n",
        "  if continua in 'Ss':\n",
        "    pass\n",
        "  elif continua in 'Nn':\n",
        "    print('Fim do programa')\n",
        "    break\n",
        "  else:\n",
        "    continua=input('Digite se quer continuar: S/N ')"
      ],
      "execution_count": null,
      "outputs": [
        {
          "output_type": "stream",
          "text": [
            "Digite a idade:14\n",
            "Menor de idade\n",
            "Deseja continuar? S/N n\n",
            "Fim do programa\n"
          ],
          "name": "stdout"
        }
      ]
    },
    {
      "cell_type": "code",
      "metadata": {
        "id": "5RI_CcnkbqLv"
      },
      "source": [
        ""
      ],
      "execution_count": null,
      "outputs": []
    }
  ]
}