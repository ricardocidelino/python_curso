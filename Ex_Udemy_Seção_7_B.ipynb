{
  "nbformat": 4,
  "nbformat_minor": 0,
  "metadata": {
    "colab": {
      "name": "Ex Udemy Seção 7 B.ipynb",
      "provenance": [],
      "collapsed_sections": [],
      "include_colab_link": true
    },
    "kernelspec": {
      "name": "python3",
      "display_name": "Python 3"
    }
  },
  "cells": [
    {
      "cell_type": "markdown",
      "metadata": {
        "id": "view-in-github",
        "colab_type": "text"
      },
      "source": [
        "<a href=\"https://colab.research.google.com/github/ricardocidelino/python_curso/blob/main/Ex_Udemy_Se%C3%A7%C3%A3o_7_B.ipynb\" target=\"_parent\"><img src=\"https://colab.research.google.com/assets/colab-badge.svg\" alt=\"Open In Colab\"/></a>"
      ]
    },
    {
      "cell_type": "code",
      "metadata": {
        "id": "6tdxsJgEc8-i"
      },
      "source": [
        "print('*'*5,'Netflix','*'*5)\n",
        "catalogo=list()\n",
        "filmes=dict()\n",
        "for d in range(0,3):\n",
        "  filmes['filme'] = str(input('Digite o nome do filme: '))\n",
        "  filmes['lançamento'] = int(input('Digite o ano do lançamento: '))\n",
        "  catalogo.append(filmes.copy())\n",
        "#print(filmes.get('filme'),end=', ')\n",
        "#print(filmes.get('ano'))\n",
        "\n",
        "print(catalogo)"
      ],
      "execution_count": null,
      "outputs": []
    },
    {
      "cell_type": "code",
      "metadata": {
        "id": "UblGi-gWdntl"
      },
      "source": [
        "'''EX 1'''\n",
        "'''Leia uma matriz 4x4, conte e escreva quantos valores maiores que 10 ela possui.'''\n",
        "matriz = list()\n",
        "lista1=[]\n",
        "lista2=[]\n",
        "contador=0\n",
        "for n in range(0,4):\n",
        "  num1=int(input(f'{n+1}º valor: '))\n",
        "  lista1.append(num1)\n",
        "  num2=int(input(f'{n+1}º valor: '))\n",
        "  lista2.append(num2)\n",
        "  if num1 or num2 > 10:\n",
        "    contador=contador+1 \n",
        "matriz.append(lista1)\n",
        "matriz.append(lista2)\n",
        "print(f'A matriz {matriz}\\nTem {contador} maiores que 10.')"
      ],
      "execution_count": null,
      "outputs": []
    },
    {
      "cell_type": "code",
      "metadata": {
        "id": "aXxcxknGds1J"
      },
      "source": [
        "'''EX 2'''\n",
        "'''Declare uma matriz 5x5. \n",
        "Preencha com 1 a diagonal principal e com 0 os demais elementos. \n",
        "Escreva ao final da matriz obtida.'''\n",
        "\n"
      ],
      "execution_count": null,
      "outputs": []
    },
    {
      "cell_type": "code",
      "metadata": {
        "id": "1Oj-8WnkdpQS"
      },
      "source": [
        "'''EX 3'''\n",
        "'''Faça um programa que preenche uma matriz 4x4 com o produto do valor da linha e da coluna de cada elemento. \n",
        "Em seguida, imprima na tela a matriz.'''\n"
      ],
      "execution_count": null,
      "outputs": []
    },
    {
      "cell_type": "code",
      "metadata": {
        "id": "ShP3QiP1PipQ"
      },
      "source": [
        "'''EX 4'''\n",
        "'''Leia uma matriz 4x4, imprima a matriz e retorne a localização (linha da coluna) do maior valor.'''\n"
      ],
      "execution_count": null,
      "outputs": []
    },
    {
      "cell_type": "code",
      "metadata": {
        "id": "_sd4T5nadpX0"
      },
      "source": [
        "'''EX 5'''\n",
        "'''Leia uma matriz 5x5. Leia também um valor X.\n",
        "O programa deverá fazer uma busca desse valor na matriz e, ao final, escrever a localização\n",
        "(linha e coluna) ou uma mensagem de \"não encontrado\"'''\n"
      ],
      "execution_count": null,
      "outputs": []
    },
    {
      "cell_type": "code",
      "metadata": {
        "id": "BV8-5xCCdpeo"
      },
      "source": [
        "'''EX 6'''\n",
        "'''Leia duas matrizes 4x4 e escreva uma terceira com os maiores valores de cada posição das matrizes lidas'''\n"
      ],
      "execution_count": null,
      "outputs": []
    },
    {
      "cell_type": "code",
      "metadata": {
        "id": "hF4eS6iBdkjo"
      },
      "source": [
        "'''EX 7'''\n",
        "'''Gerar e imprimir uma matriz de tamanho 10x10, \n",
        "onde seus elementos são da forma:\n",
        "A[i][j] = 2 i+7j-2 se i < j;\n",
        "A[i][j] = 3i² - 1 se i = j:\n",
        "A[i][j] = 4i³ - 5j²+1 se i > j'''\n"
      ],
      "execution_count": null,
      "outputs": []
    },
    {
      "cell_type": "code",
      "metadata": {
        "id": "7mOc3Wrzos1R"
      },
      "source": [
        "'''EX 8'''\n",
        "'''Leia uma matriz de 3x3 elementos. Calcule a soma dos elementos que estão acima da diagonal principal.'''\n"
      ],
      "execution_count": null,
      "outputs": []
    },
    {
      "cell_type": "code",
      "metadata": {
        "id": "WBZ-aHbqotJs"
      },
      "source": [
        "'''EX 9'''\n",
        "'''Leia a matriz de 3x3 elementos. Calcule a soma dos elementos que estão abaixo da diagonal principal'''"
      ],
      "execution_count": null,
      "outputs": []
    },
    {
      "cell_type": "code",
      "metadata": {
        "id": "sqarunvnosxr"
      },
      "source": [
        "'''EX 10'''\n",
        "'''Leia uma matriz de 3x3 elementos. Calcule a soma dos elementos que estão na diagonal principal.'''\n"
      ],
      "execution_count": null,
      "outputs": []
    },
    {
      "cell_type": "code",
      "metadata": {
        "id": "UCISs620oxcC"
      },
      "source": [
        "'''EX 11'''\n"
      ],
      "execution_count": null,
      "outputs": []
    },
    {
      "cell_type": "code",
      "metadata": {
        "id": "IztBD7cKoyq3"
      },
      "source": [
        "'''EX 12'''\n"
      ],
      "execution_count": null,
      "outputs": []
    },
    {
      "cell_type": "code",
      "metadata": {
        "id": "a90UIL8Eo2-y"
      },
      "source": [
        "'''EX 13'''\n"
      ],
      "execution_count": null,
      "outputs": []
    },
    {
      "cell_type": "code",
      "metadata": {
        "id": "KIx2Z5Bto01j"
      },
      "source": [
        "'''EX 14'''\n",
        "from random import randint\n",
        "\n",
        "linha1=[]\n",
        "linha2=[]\n",
        "linha3=[]\n",
        "linha4=[]\n",
        "linha5=[]\n",
        "\n",
        "cartela=[linha1,linha2,linha3,linha4,linha5]\n",
        "\n",
        "for a in range(0,5):\n",
        "  sorteio=randint(1,99)\n",
        "  if sorteio in linha1:\n",
        "    linha1.append(randint(1,99))\n",
        "  else:\n",
        "    linha1.append(sorteio)    \n",
        "   \n",
        "for b in range(0,5):\n",
        "  sorteio=randint(1,99)\n",
        "  if sorteio in linha2 or linha1:\n",
        "    linha2.append(randint(1,99))\n",
        "  else:\n",
        "    linha2.append(sorteio) \n",
        "\n",
        "for c in range(0,5):\n",
        "  sorteio=randint(1,99)\n",
        "  if sorteio in linha3 or linha2 or linha1:\n",
        "    linha3.append(randint(1,99))\n",
        "  else:\n",
        "    linha3.append(sorteio) \n",
        "\n",
        "for d in range(0,5):\n",
        "  sorteio=randint(1,99)\n",
        "  if sorteio in linha4 or linha3 or linha2 or linha1:\n",
        "    linha4.append(randint(1,99))\n",
        "  else:\n",
        "    linha4.append(sorteio)\n",
        "\n",
        "for e in range(0,5):\n",
        "  sorteio=randint(1,99)\n",
        "  if sorteio in linha5 or linha4 or linha3 or linha2 or linha1:\n",
        "    linha5.append(randint(1,99))\n",
        "  else:\n",
        "    linha5.append(sorteio)\n",
        "\n",
        "print(linha1)\n",
        "print(linha2)\n",
        "print(linha3)\n",
        "print(linha4)\n",
        "print(linha5)\n",
        "\n",
        "# Solução de outro aluno:\n",
        "print('----------')\n",
        "print('Seção 7 - Parte 2 - Questão 14')\n",
        "from random import *\n",
        "matriz1 = []\n",
        "lista = []\n",
        "valor = 0\n",
        "for l in range(5):\n",
        "    while len(lista) < 5:\n",
        "        existe = False\n",
        "        valor = randint(0, 99)\n",
        "        if len(matriz1) > 0:\n",
        "            for v in range(len(matriz1)):\n",
        "                if valor in matriz1[v]:\n",
        "                    existe = True\n",
        "        if valor not in lista and not existe:\n",
        "            lista.append(valor)\n",
        "    matriz1.append(list(lista))\n",
        "    lista.clear()\n",
        "for l in range(len(matriz1)):\n",
        "    print(matriz1[l])"
      ],
      "execution_count": null,
      "outputs": []
    },
    {
      "cell_type": "code",
      "metadata": {
        "id": "Z6xOJs_2o18b"
      },
      "source": [
        "'''EX 15'''  \n",
        "print('----------')\n",
        "print('Seção 7 - Parte 2 - Questão 15')\n",
        "import random\n",
        "from collections import Counter\n",
        "gabarito = ['a', 'a', 'c', 'd', 'd', 'b', 'c', 'b', 'b', 'd']\n",
        "matriz = []\n",
        "respostas = []\n",
        "resultado = []\n",
        "result_dict = dict()\n",
        "for l in range(5): # 5 alunos\n",
        "    for c in range(10): # 10 respostas\n",
        "        respostas.append(random.choice(\"abcd\"))\n",
        "    matriz.append(list(respostas))\n",
        "    respostas.clear()\n",
        "for l in range(len(matriz)): #contagem de acertos\n",
        "    aux = []\n",
        "    for c in range(10):#comparação de respostas\n",
        "        if matriz[l][c] == gabarito[c]: #se a resposta L no indice C for igual ao gabarito\n",
        "            aux.append(1)\n",
        "        else:\n",
        "            aux.append(0)\n",
        "    resultado.append(list(aux))\n",
        "for i in range(5):\n",
        "    result_dict[i] = dict(Counter(resultado[i]))\n",
        "for l in range(len(result_dict)):    \n",
        "    print(f'Aluno {l+1} acertou {result_dict[l].get(1, 0)} e errou {result_dict[l].get(0, 0)}')"
      ],
      "execution_count": null,
      "outputs": []
    },
    {
      "cell_type": "code",
      "metadata": {
        "id": "VWWrvXl2o4Qm"
      },
      "source": [
        "'''EX 16''' \n",
        "'''Faça um programa para corrigir uma prova de 10 questões de múltipla escolha (a,b,c,d,e), em uma turma de 3 alunos.\n",
        "Cada questão vale 1 ponto. Leia o gabarito, e para cada aluno leia sua matrícula (número inteiro) e suas respostas.\n",
        "Calcule e escreva: Para cada aluno, escreva sua matrícula, respostas e nota.\n",
        "O percentual de aprovação, assumindo a média 7,0.'''\n",
        "\n",
        "import random\n",
        "gabarito = []\n",
        "prova = [[], [], [], [], [], [], [], [], [], []]\n",
        "resultado = {}\n",
        " \n",
        "# Gerando o Gabarito\n",
        "for n in range(1, 11):\n",
        "    r = random.choice(\"abcde\")\n",
        "    gabarito.append(r)\n",
        "print(\"GABARITO\")\n",
        "print('-=' * 25)\n",
        "print(gabarito)\n",
        "print('-=' * 25)\n",
        "print()\n",
        " \n",
        "# Lendo as respostas dos alunos:\n",
        "for l in range(3):\n",
        "    for c in range(10):\n",
        "        n = random.choice(\"abcde\")\n",
        "        prova[l].append(n)\n",
        " \n",
        "# Imprimindo as repostas dos alunos:\n",
        "print(\"RESPOSTAS OFICIAIS DOS ALUNOS\")\n",
        "print('-=' * 25)\n",
        " \n",
        "for l in range(len(prova)):\n",
        "    for c in range(len(prova[l])):\n",
        "        print(f\"[{prova[l][c]:^3}]\", end='')\n",
        "    print()\n",
        " \n",
        "for l in range(3):\n",
        "    r = 0  # acertos\n",
        "    if True:\n",
        "        for c in range(10):\n",
        "            if gabarito[c] == prova[l][c]:\n",
        "                r = r + 1\n",
        "    resultado.update({l: r})\n",
        " \n",
        "print(\"RESULTADO DA AVALIAÇÃO\")\n",
        "print('-=' * 25)\n",
        " \n",
        "for i, j in resultado.items():\n",
        "    if j > 7:\n",
        "        print(f\"Aluno-{i} : Nota:{j} - Aprovado!\")\n",
        "    else:\n",
        "        print(f\"Aluno-{i} : Nota:{j} - Reprovado!\")\n"
      ],
      "execution_count": null,
      "outputs": []
    },
    {
      "cell_type": "code",
      "metadata": {
        "id": "iY88isi-o5Tc"
      },
      "source": [
        "'''EX 17''' \n",
        "'''Faça um programa que permita ao usuário entrar com uma matriz de 3x3 números inteiros. \n",
        "Em seguida, gere um array unidimencional pela soma dos números de cada coluna da matriz e mostrar na tela esse array. \n",
        "Por exemplo, a matriz: \n",
        "5 -8 10\n",
        "1 2 15\n",
        "25 10 7 '''\n",
        "\n",
        "a=[]\n",
        "b=[]\n",
        "c=[]\n",
        "matriz=[a,b,c]\n",
        "\n",
        "for x in range(3):    \n",
        "  a.append(int(input('Número: ')))\n",
        "for y in range(3):    \n",
        "  b.append(int(input('Número: ')))\n",
        "for z in range(3):    \n",
        "  c.append(int(input('Número: ')))\n",
        "\n",
        "soma_a=a[0]+b[0]+c[0]\n",
        "soma_b=a[1]+b[1]+c[1]\n",
        "soma_c=a[2]+b[2]+c[2]\n",
        "\n",
        "print(f'Números digitados: {matriz}')\n",
        "print(soma_a, soma_b, soma_c)\n",
        " "
      ],
      "execution_count": null,
      "outputs": []
    },
    {
      "cell_type": "code",
      "metadata": {
        "id": "hbmY-k1Io6dd"
      },
      "source": [
        "'''EX 18'''  \n",
        "'''Faça um programa que leia uma matriz de 5 linhas e 4 colunas \n",
        "contendo as seguintes informações sobre alunos de uma discipina, sendo tordas as info do tipo inteiro: \n",
        "1ª coluna: número de matrícula(use um inteiro)\n",
        "2ª coluna: média das provas \n",
        "3ª coluna: média dos trabalhos\n",
        "4ª coluna: nota final\n",
        "\n",
        "Elabore um programa que:\n",
        "(a) Leia as três primeiras info de cada aluno\n",
        "(b) calcule a nota final como sendo a soma da média das provas e da média dos trabalhos\n",
        "(c)Imprima a matrícula do aluno que obteve a maior nota final (assuma que só existe uma maior nota)\n",
        "(d)imprima a média aritimética das notas finais\n",
        "'''\n",
        "import random\n",
        "v3 = [[random.randint(0, 100) for numero in range(3)] for valor in range(3)]\n",
        "print(v3)\n",
        "a = 0\n",
        "for i in range(3):\n",
        "    n = []\n",
        "    for j in range(3):\n",
        "            a = a + v3[j][i] # soma as colunas \n",
        "            n.append(v3[j][i]) # cria o vetorcoluna n \n",
        "    print(f'soma é {a},coluna {n} ')\n"
      ],
      "execution_count": null,
      "outputs": []
    },
    {
      "cell_type": "code",
      "metadata": {
        "id": "a9eJw21Xy4A9",
        "colab": {
          "base_uri": "https://localhost:8080/",
          "height": 51
        },
        "outputId": "cdee8699-1be7-4786-c0b6-d324ddcaf114"
      },
      "source": [
        "'''EX 19''' \n",
        "carrinho = list()\n",
        "\n",
        "produto1 = {'nome': 'Playstation 4', 'qtde': 1, 'preço': 2300}\n",
        "produto2 = {'nome': 'God of War 4', 'qtde': 1, 'preço': 150.00}\n",
        "\n",
        "carrinho.append(produto1)\n",
        "carrinho.append(produto2)\n",
        "\n",
        "print(produto1)\n",
        "print(produto2)"
      ],
      "execution_count": null,
      "outputs": [
        {
          "output_type": "stream",
          "text": [
            "{'nome': 'Playstation 4', 'qtde': 1, 'preço': 2300}\n",
            "{'nome': 'God of War 4', 'qtde': 1, 'preço': 150.0}\n"
          ],
          "name": "stdout"
        }
      ]
    },
    {
      "cell_type": "code",
      "metadata": {
        "id": "kptYfF7Zo9HU"
      },
      "source": [
        "'''EX 20'''\n",
        "'''Faça um programa que leia uma matriz 3x6 com valores reais.\n",
        "\n",
        "(a) Imprima a soma de todos os elementos das colunas ímpares\n",
        "(b) Imprima a média aritimética dos elementos da segunda e quarta colunas\n",
        "(c) Substitua os valores da sexta coluna pela soma dos valores das colunas 1 e 2\n",
        "(d) Imprima a matriz modificada'''\n",
        "\n",
        "[[],[],[],[],[],[]]\n",
        "\n",
        "print(soma_total)"
      ],
      "execution_count": null,
      "outputs": []
    },
    {
      "cell_type": "code",
      "metadata": {
        "id": "qusrNwLLo-wk"
      },
      "source": [
        "'''EX 21''' \n",
        "'''Faça um programa que leia duas matrizes 2x2 com valores reais. \n",
        "Ofereça ao usuário um meno de opções:\n",
        "\n",
        "(a) Somar duas matrizes\n",
        "(b) subtrair a primeira matriz da segunda\n",
        "(c) adicionar uma constante às duas matrizes\n",
        "(d) imprimir as matrizes'''\n"
      ],
      "execution_count": null,
      "outputs": []
    },
    {
      "cell_type": "code",
      "metadata": {
        "id": "uHNYgm0Do_4A"
      },
      "source": [
        "'''EX 22''' \n"
      ],
      "execution_count": null,
      "outputs": []
    },
    {
      "cell_type": "code",
      "metadata": {
        "id": "9h32C692pBOG"
      },
      "source": [
        "'''EX 23'''\n",
        "   "
      ],
      "execution_count": null,
      "outputs": []
    },
    {
      "cell_type": "code",
      "metadata": {
        "id": "TZm2FyPBpEDN"
      },
      "source": [
        "'''EX 24'''\n"
      ],
      "execution_count": null,
      "outputs": []
    },
    {
      "cell_type": "code",
      "metadata": {
        "id": "pKJHxtXUpFk_"
      },
      "source": [
        "'''EX 25'''\n"
      ],
      "execution_count": null,
      "outputs": []
    },
    {
      "cell_type": "code",
      "metadata": {
        "id": "0R_vj4eYt4ng"
      },
      "source": [
        "'''EX 26'''\n"
      ],
      "execution_count": null,
      "outputs": []
    },
    {
      "cell_type": "code",
      "metadata": {
        "id": "56dW8_BXt5BD"
      },
      "source": [
        "'''EX 27'''\n"
      ],
      "execution_count": null,
      "outputs": []
    },
    {
      "cell_type": "code",
      "metadata": {
        "id": "NMtJ_Iyot49c"
      },
      "source": [
        "'''EX 28''' \n"
      ],
      "execution_count": null,
      "outputs": []
    },
    {
      "cell_type": "code",
      "metadata": {
        "id": "By6o4-B6xvaz"
      },
      "source": [
        "'''EX 29''' \n"
      ],
      "execution_count": null,
      "outputs": []
    },
    {
      "cell_type": "code",
      "metadata": {
        "id": "7FS4PL9ct42N"
      },
      "source": [
        "'''EX 30''' "
      ],
      "execution_count": null,
      "outputs": []
    },
    {
      "cell_type": "code",
      "metadata": {
        "id": "bsMNaPz1t4h7"
      },
      "source": [
        "'''EX 31'''"
      ],
      "execution_count": null,
      "outputs": []
    },
    {
      "cell_type": "code",
      "metadata": {
        "id": "aKYUvFjyt_HG"
      },
      "source": [
        "'''EX 32''' \n"
      ],
      "execution_count": null,
      "outputs": []
    },
    {
      "cell_type": "code",
      "metadata": {
        "id": "GrZ-o-6Rt_zq"
      },
      "source": [
        "'''EX 33''' \n",
        "  "
      ],
      "execution_count": null,
      "outputs": []
    },
    {
      "cell_type": "code",
      "metadata": {
        "id": "maDzYnSet_xN"
      },
      "source": [
        "'''EX 34''' \n"
      ],
      "execution_count": null,
      "outputs": []
    },
    {
      "cell_type": "code",
      "metadata": {
        "id": "E2pkj8eLt_u7"
      },
      "source": [
        "'''EX 35''' \n"
      ],
      "execution_count": null,
      "outputs": []
    },
    {
      "cell_type": "code",
      "metadata": {
        "id": "0JOfX1Yit_sd"
      },
      "source": [
        "'''EX 36''' \n"
      ],
      "execution_count": null,
      "outputs": []
    },
    {
      "cell_type": "code",
      "metadata": {
        "id": "yL5-48cQt_C2"
      },
      "source": [
        "'''EX 37'''\n"
      ],
      "execution_count": null,
      "outputs": []
    },
    {
      "cell_type": "code",
      "metadata": {
        "id": "vj8z1toLyjke"
      },
      "source": [
        "'''Ex 38''' "
      ],
      "execution_count": null,
      "outputs": []
    },
    {
      "cell_type": "code",
      "metadata": {
        "id": "KZZ4Jc2LuG1C"
      },
      "source": [
        "'''EX 39''' "
      ],
      "execution_count": null,
      "outputs": []
    },
    {
      "cell_type": "code",
      "metadata": {
        "id": "6k8mcL5yuHRW"
      },
      "source": [
        "'''EX 40''' "
      ],
      "execution_count": null,
      "outputs": []
    },
    {
      "cell_type": "code",
      "metadata": {
        "id": "djDZdtXiTEKP"
      },
      "source": [
        " '''EX 41''' "
      ],
      "execution_count": null,
      "outputs": []
    }
  ]
}