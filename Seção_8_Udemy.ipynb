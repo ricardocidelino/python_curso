{
  "nbformat": 4,
  "nbformat_minor": 0,
  "metadata": {
    "colab": {
      "name": "Seção 8 - Udemy",
      "private_outputs": true,
      "provenance": [],
      "collapsed_sections": [],
      "authorship_tag": "ABX9TyP6Br+5AY6ybVWtQqzbZVDT",
      "include_colab_link": true
    },
    "kernelspec": {
      "name": "python3",
      "display_name": "Python 3"
    }
  },
  "cells": [
    {
      "cell_type": "markdown",
      "metadata": {
        "id": "view-in-github",
        "colab_type": "text"
      },
      "source": [
        "<a href=\"https://colab.research.google.com/github/ricardocidelino/python_curso/blob/main/Se%C3%A7%C3%A3o_8_Udemy.ipynb\" target=\"_parent\"><img src=\"https://colab.research.google.com/assets/colab-badge.svg\" alt=\"Open In Colab\"/></a>"
      ]
    },
    {
      "cell_type": "code",
      "metadata": {
        "id": "OyJEETDvjCJv"
      },
      "source": [
        "\"\"\"Ex 1\"\"\"\n",
        "def double(numero):\n",
        "  return numero*2\n",
        "\n",
        "\n",
        "double(2)"
      ],
      "execution_count": null,
      "outputs": []
    },
    {
      "cell_type": "code",
      "metadata": {
        "id": "FJoCRB_lkG0V"
      },
      "source": [
        "\"\"\"Ex 2\"\"\"\n",
        "def data(dia=0,mes=0,ano=0):\n",
        "  print(f\"{dia} de {meses[mes-1]} de {ano}.\")\n",
        "\n",
        "\n",
        "meses=(\"Janeiro\",\"Fevereiro\",\"Março\",\"Abril\",\"Maio\",\"Junho\",\"Julho\",\"Agosto\",\"Setembro\",\"Outubro\",\"Novembro\",\"Dezembro\")\n",
        "data(dia=int(input()),mes=int(input()),ano=int(input()))"
      ],
      "execution_count": null,
      "outputs": []
    },
    {
      "cell_type": "code",
      "metadata": {
        "id": "YFHBXk2Rt-is"
      },
      "source": [
        "\"\"\"Ex 3\"\"\"\n",
        "\n",
        "def num(entrada):\n",
        "  if entrada < 0:\n",
        "    return -1\n",
        "  elif entrada == 0:\n",
        "    return 0\n",
        "  else:\n",
        "    return 1\n",
        "\n",
        "\n",
        "entrada=int(input())\n",
        "num(entrada)"
      ],
      "execution_count": null,
      "outputs": []
    },
    {
      "cell_type": "code",
      "metadata": {
        "id": "WqtaIUOCuBKO"
      },
      "source": [
        "\"\"\"Ex 4\"\"\"\n",
        "\n",
        "def perf(num):\n",
        "    if num**0.5 == Math.srqt():\n",
        "        print(\"quadrado perfeito\")\n",
        "    else:\n",
        "        print(\"quadrado imperfeito\")\n",
        "\n",
        "\n",
        "print(num)"
      ],
      "execution_count": null,
      "outputs": []
    },
    {
      "cell_type": "code",
      "metadata": {
        "id": "zWEtWxypuCcE"
      },
      "source": [
        "\"\"\"Ex 5\"\"\"\n",
        "def calculo(raio):\n",
        "    pi = 3.14159\n",
        "    volume = 4/3 * pi * (raio**3)\n",
        "    print(volume)\n",
        "\n",
        "\n",
        "raio=int(input(\"informe o raio: \"))\n",
        "calculo(raio)"
      ],
      "execution_count": null,
      "outputs": []
    },
    {
      "cell_type": "code",
      "metadata": {
        "id": "EKxa5mkM1mU0"
      },
      "source": [
        "\"\"\"Ex 6\"\"\"\n",
        "def hour(h,m,s):\n",
        "    h = h*360\n",
        "    m = m*60\n",
        "    total=h+m+s\n",
        "    print(f\"Total de segundos: {total}\")\n",
        "\n",
        "\n",
        "h=int(input(\"Informe as horas: \"))\n",
        "m=int(input(\"Informe os minutos: \"))\n",
        "s=int(input(\"Informe os segundos: \"))\n",
        "hour(h,m,s)"
      ],
      "execution_count": null,
      "outputs": []
    },
    {
      "cell_type": "code",
      "metadata": {
        "id": "a66B1wQi1qBT"
      },
      "source": [
        "\"\"\"Ex 7\"\"\"\n",
        "def grau():\n",
        "    f = c*(9.0/5.0)+32.0\n",
        "    print(f\"Temperatura em Fahrenheit: {f}\")\n",
        "\n",
        "\n",
        "c=int(input(\"Informe a temperatura em Celcius: \"))\n",
        "grau()"
      ],
      "execution_count": null,
      "outputs": []
    },
    {
      "cell_type": "code",
      "metadata": {
        "id": "VCuI0yBv1rpx"
      },
      "source": [
        "\"\"\"Ex 8\"\"\"\n"
      ],
      "execution_count": null,
      "outputs": []
    },
    {
      "cell_type": "code",
      "metadata": {
        "id": "zn_mw6j_1tKo"
      },
      "source": [
        "\"\"\"Ex 9\"\"\"\n",
        "def cilindro(raio,altura):\n",
        "    pi = 3.14159\n",
        "    volume = pi*(raio**2)*altura\n",
        "    print(f\"Volume: {volume:.2f}\")\n",
        "\n",
        "altura=int(input(\"Digite a altura: \"))\n",
        "raio=int(input(\"Digite o raio: \"))\n",
        "cilindro(raio,altura)"
      ],
      "execution_count": null,
      "outputs": []
    },
    {
      "cell_type": "code",
      "metadata": {
        "id": "fDUXJMcB1uZ8"
      },
      "source": [
        "\"\"\"Ex 10\"\"\"\n",
        "\n",
        "def maior(a,b):\n",
        "    if a > b:\n",
        "        print(f\"{a} é maior que {b}\")\n",
        "    elif b < a:\n",
        "        print(f\"{b} é maior que {a}\")\n",
        "    else:\n",
        "        print(f\"{a} e {b} são iguais\")\n",
        "\n",
        "\n",
        "a=int(input(\"Digite o primeiro valor: \"))\n",
        "b=int(input(\"Digite o segundo valor: \"))\n",
        "maior(a,b)"
      ],
      "execution_count": null,
      "outputs": []
    },
    {
      "cell_type": "code",
      "metadata": {
        "id": "7U7mAzwU1vzL"
      },
      "source": [
        "\"\"\"Ex 11\"\"\"\n",
        "\n",
        "def aluno(nota1,nota2,nota3,msg):\n",
        "    if msg == \"A\":\n",
        "        media=(nota1+nota2+nota3)/3\n",
        "        print(f\"A média aritmética é: {media:.2f}\")\n",
        "    elif msg == \"P\":\n",
        "        media =((nota1*5)+(nota2*3)+(nota3*2))/10\n",
        "        print(f\"A média ponderada é: {media:.2f}\")\n",
        "\n",
        "\n",
        "nota1=int(input(\"Digite a 1ª nota: \"))\n",
        "nota2=int(input(\"Digite a 2ª nota: \"))\n",
        "nota3=int(input(\"Digite a 3ª nota: \"))\n",
        "msg=str(input(\"Digite o tipo de média que deseja(A ou P): \")).upper()\n",
        "aluno(nota1,nota2,nota3,msg)"
      ],
      "execution_count": null,
      "outputs": []
    },
    {
      "cell_type": "code",
      "metadata": {
        "id": "ftGNKn4dil53"
      },
      "source": [
        "\"\"\"Ex 12\"\"\"\n",
        "def soma_algarismos(n):\n",
        "    if n <= 0 or n != int(num):\n",
        "        return 'Número inválido!'\n",
        "    soma = 0\n",
        "    n = str(n)\n",
        "    for i in n:\n",
        "        i = int(i)\n",
        "        soma = soma + i\n",
        "    return f'A soma dos algarismos do número informado é {soma}.'\n",
        "     \n",
        "     \n",
        "num = int(input('Informe um número positivo e inteiro para ser feita a soma de seus algarismos:'))\n",
        "print(soma_algarismos(num))"
      ],
      "execution_count": null,
      "outputs": []
    },
    {
      "cell_type": "code",
      "metadata": {
        "id": "mdGhev-simIJ"
      },
      "source": [
        "\"\"\"Ex 13\"\"\"\n",
        "def calculadora(num1,num2,msg):\n",
        "    if msg == \"-\":\n",
        "        resultado = num1-num2\n",
        "        return f\"{resultado} Você escolheu subtração\"\n",
        "    elif msg ==\"+\":\n",
        "        resultado = num1+num2\n",
        "        return f\"{resultado} Você escolheu soma\"\n",
        "    elif msg ==\"/\":\n",
        "        resultado = num1/num2\n",
        "        return f\"{resultado} Você escolheu divisão\"\n",
        "    else:\n",
        "        resultado = num1*num2\n",
        "        return f\"{resultado} Você escolheu multiplicação\"\n",
        "\n",
        "\n",
        "num1=int(input(\"Digite o primeiro valor: \"))\n",
        "num2=int(input(\"Digite o segundo valor: \"))\n",
        "msg=str(input(\"Considerando + para adição, - para subtração, * para multiplicação e / para divisão\\nDigite o tipo de operação:\"))\n",
        "calculadora(num1,num2,msg)"
      ],
      "execution_count": null,
      "outputs": []
    },
    {
      "cell_type": "code",
      "metadata": {
        "id": "tBb6tEYxmqEY"
      },
      "source": [
        "\"\"\"Ex 14\"\"\"\n",
        "def viagem(distancia,litros):\n",
        "    consumo=distancia/litros\n",
        "    if consumo < 8:        \n",
        "        return \"Venda o carro\"\n",
        "    elif consumo < 14:\n",
        "        return \"Econômico\"\n",
        "    else:\n",
        "        return \"super economico\"\n",
        "\n",
        "\n",
        "distancia=int(input(\"Distância em KM: \"))\n",
        "litros=int(input(\"Consumo em litros: \"))\n",
        "viagem(distancia,litros)"
      ],
      "execution_count": null,
      "outputs": []
    },
    {
      "cell_type": "code",
      "metadata": {
        "id": "7wmPVtniHHLw"
      },
      "source": [
        "Se\"\"\"Ex 15\"\"\"\n",
        "def triangulo():\n",
        "    if valor1 < valor2+valor3 and valor2 < valor1+valor3 and valor3 < valor1+valor2:\n",
        "        return \"Triângulo perfeito·\"        \n",
        "    else:\n",
        "        return \"Triângulo imperfeito.\"\n",
        "\n",
        "\n",
        "def type():\n",
        "    if valor1 == valor2 and valor1 != valor3:\n",
        "        return \"isóceles\"\n",
        "    elif valor2 == valor3 and valor2 != valor1:\n",
        "        return \"isóceles\"\n",
        "    elif valor3 == valor1 and valor3 != valor2:\n",
        "        return \"isóceles\"    \n",
        "    elif valor1 == valor2 == valor3:\n",
        "        return \"equilátero\"\n",
        "    else:\n",
        "        return\"escaleno\"\n",
        "\n",
        "\n",
        "valor1=int(input(\"valor 1: \"))\n",
        "valor2=int(input(\"valor 2: \"))\n",
        "valor3=int(input(\"valor 3: \"))\n",
        "\n",
        "print(triangulo())\n",
        "print(type())"
      ],
      "execution_count": null,
      "outputs": []
    },
    {
      "cell_type": "code",
      "metadata": {
        "id": "KmtcgoDKHzlZ"
      },
      "source": [
        "\"\"\"Ex 16\"\"\"\n",
        "def DesenhaLinha():\n",
        "    return entrada*'='\n",
        "\n",
        "\n",
        "entrada=int(input(\"tamanho da linha:\"))\n",
        "print(DesenhaLinha())"
      ],
      "execution_count": null,
      "outputs": []
    },
    {
      "cell_type": "code",
      "metadata": {
        "id": "gOJNkgRDHz2Q"
      },
      "source": [
        "\"\"\"Ex 17\"\"\"\n",
        "def soma_elementos(n1, n2):\n",
        "    lista = []\n",
        "    while n1 < 0 or n2 < 0:\n",
        "        print('O valor tem que ser positivo e inteiro!')\n",
        "        n1 = int(input('Digite o valor do primeiro número: '))\n",
        "        n2 = int(input('Digite o valor do segundo número: '))\n",
        "    for elementos in range(n1, n2+1):\n",
        "        lista.append(elementos)\n",
        "    return f'Os N elementos entre {n1} e {n2} são: {lista}\\n' \\\n",
        "            f'A soma desses elementos é {sum(lista)}'\n",
        "    \n",
        "    \n",
        "n1 = int(input('Digite o valor do primeiro número: '))\n",
        "n2 = int(input('Digite o valor do segundo número: '))\n",
        "print(soma_elementos(n1,n2))"
      ],
      "execution_count": null,
      "outputs": []
    },
    {
      "cell_type": "code",
      "metadata": {
        "id": "fpOVctMwH0Fw"
      },
      "source": [
        "\"\"\"Ex 18\"\"\"\n",
        "def potencia(x,z):\n",
        "    return f\"{x**z}\"\n",
        "\n",
        "\n",
        "x=int(input(\"Digite X: \"))\n",
        "z=int(input(\"Digite Z: \"))\n",
        "print(potencia(x,z))"
      ],
      "execution_count": null,
      "outputs": []
    },
    {
      "cell_type": "code",
      "metadata": {
        "id": "M8Ya0udgCBt9"
      },
      "source": [
        "\"\"\"Ex 19\"\"\"\n"
      ],
      "execution_count": null,
      "outputs": []
    },
    {
      "cell_type": "code",
      "metadata": {
        "id": "uVsfj-U-CB2C"
      },
      "source": [
        "\"\"\"Ex 20\"\"\"\n",
        "from time import sleep\n",
        "def fator(n):\n",
        "    for n in range(n,0,-1):\n",
        "        sleep(1)\n",
        "        print(f\"{n}\",end=' ')\n",
        "    print('')\n",
        "    return \"The End\"\n",
        "        \n",
        "\n",
        "\n",
        "n=int(input(\"Digite o número que deseja fatorar: \")) \n",
        "fator(n)"
      ],
      "execution_count": null,
      "outputs": []
    },
    {
      "cell_type": "code",
      "metadata": {
        "id": "4-0PSbPRCB-v"
      },
      "source": [
        "\"\"\"Ex 21\"\"\"\n",
        "def engine(n):\n",
        "    tot=0    \n",
        "    for c in range(1,n+1):\n",
        "        if n % c == 0:\n",
        "            tot+=1\n",
        "    if tot == 2:\n",
        "        return f\"{c} é primo.\"\n",
        "    else:\n",
        "        return \"the end\"\n",
        "\n",
        "\n",
        "n=int(input(\"Digite o número: \"))\n",
        "print(engine(n))"
      ],
      "execution_count": null,
      "outputs": []
    },
    {
      "cell_type": "code",
      "metadata": {
        "id": "R5cBSoskCCGX"
      },
      "source": [
        "\"\"\"Ex 22\"\"\"\n",
        "def engine(n):\n",
        "    for i in range(1,n+1):\n",
        "        print(\"!\"*i)\n",
        "\n",
        "\n",
        "n=int(input(\"Digite a quantidade de exclamação: \"))\n",
        "engine(n)"
      ],
      "execution_count": null,
      "outputs": []
    },
    {
      "cell_type": "code",
      "metadata": {
        "id": "O56GVLxHCCLc"
      },
      "source": [
        "\"\"\"Ex 23\"\"\"\n",
        "def engine(n):\n",
        "    for i in range(1,n+1):\n",
        "        print(\"*\"*i)\n",
        "    for j in range(n-1,0,-1):\n",
        "        print(\"*\"*j)\n",
        "    \n",
        "\n",
        "n=int(input(\"Digite a quantidade: \"))\n",
        "engine(n)"
      ],
      "execution_count": null,
      "outputs": []
    },
    {
      "cell_type": "code",
      "metadata": {
        "id": "HaWD5xxqnHWU"
      },
      "source": [
        "\"\"\"Ex 24\"\"\"\n",
        "a = int(input(\"Digite um valor n positivo: \"))\n",
        "'''\n",
        "for i in range(1, n+1):\n",
        "    tri = (' ' * (n - i)) + ('*' * (2 * i - 1))\n",
        "    print(tri)\n",
        "'''\n",
        " \n",
        " \n",
        "# refatorando:\n",
        "def triagulo(n=6):\n",
        "    list(print(' ' * (n - i) + ('*' * (2 * i - 1))) for i in range(1, n+1))\n",
        " \n",
        " \n",
        "triagulo(a)"
      ],
      "execution_count": null,
      "outputs": []
    },
    {
      "cell_type": "code",
      "metadata": {
        "id": "QjmrTG7vnHgV"
      },
      "source": [
        "\"\"\"Ex 25\"\"\"\n",
        "from time import sleep\n",
        "def engine(n):\n",
        "    soma=0\n",
        "    sleep(1)\n",
        "    print(f\"Total = {soma}\")\n",
        "    for i in range(1,n+1):\n",
        "        sleep(1)\n",
        "        print(f\"Casa {i} + soma {soma}\")\n",
        "        sleep(1)\n",
        "        soma += i\n",
        "        print(f\"Total = {soma}\")    \n",
        "\n",
        "\n",
        "n=int(input(\"Digite o número que deseja somar: \"))\n",
        "engine(n)"
      ],
      "execution_count": null,
      "outputs": []
    },
    {
      "cell_type": "code",
      "metadata": {
        "id": "vO5H5QHJnIAt"
      },
      "source": [
        "\"\"\"Ex 26\"\"\""
      ],
      "execution_count": null,
      "outputs": []
    },
    {
      "cell_type": "code",
      "metadata": {
        "id": "XYkCKOeRnIZX"
      },
      "source": [
        "\"\"\"Ex 26\"\"\""
      ],
      "execution_count": null,
      "outputs": []
    },
    {
      "cell_type": "code",
      "metadata": {
        "id": "lpDX2EDvnRQH"
      },
      "source": [
        "\"\"\"Ex 27\"\"\""
      ],
      "execution_count": null,
      "outputs": []
    },
    {
      "cell_type": "code",
      "metadata": {
        "id": "5LUcePLInPAV"
      },
      "source": [
        "\"\"\"Ex 28\"\"\""
      ],
      "execution_count": null,
      "outputs": []
    },
    {
      "cell_type": "code",
      "metadata": {
        "id": "TH_CdiGlr8J-"
      },
      "source": [
        " def line(msg):\n",
        "    msg=int(input(\"Digite a mensagem: \"))\n",
        "    \n",
        "    print('-'*30)\n",
        "\n",
        "\n",
        "frase=str(input(\"Digite a frase: \"))\n",
        "line()\n",
        "print(f'{frase}')\n",
        "line()"
      ],
      "execution_count": null,
      "outputs": []
    },
    {
      "cell_type": "code",
      "metadata": {
        "id": "6z5xhBVbK_5K"
      },
      "source": [
        "def fuc(n):\n",
        "    for i in range(1,n+1):\n",
        "        if i%5==0 and i%3==0:\n",
        "            print('fizzbuzz\\n')\n",
        "        elif i%3!=0 and i%5==0:\n",
        "            print('fizz\\n')\n",
        "        elif i%5!=0 and i%3==0:\n",
        "            print('buzz\\n')\n",
        "        else:\n",
        "            print (f\"{i}\\n\")\n",
        "\n",
        "\n",
        "n=int(input(\"digite o n: \"))\n",
        "fuc(n)"
      ],
      "execution_count": null,
      "outputs": []
    },
    {
      "cell_type": "code",
      "metadata": {
        "id": "nzaSmnhQsHdq"
      },
      "source": [
        "lista=[1,2,3,4,5]\n",
        "print(max(lista))\n",
        "lista.remove(max(lista))\n",
        "for i in range(0,len(lista)):\n",
        "    print(f'{lista[i]}' , end=\" \")\n",
        "print(f'\\n{sum(lista)}')"
      ],
      "execution_count": null,
      "outputs": []
    },
    {
      "cell_type": "code",
      "metadata": {
        "id": "iuDVvpH7-RrX"
      },
      "source": [
        "from random import randint\n",
        "def formacaoDeTime(pontuacao, tamanho_do_time, k): \n",
        "    n = 1\n",
        "    while n < tamanho_do_time :\n",
        "        maximo = 0\n",
        "        soma = 0        \n",
        "                \n",
        "        for num in range(0,len(pontuacao)):                \n",
        "            maximo = max(pontuacao)\n",
        "            pontuacao.remove(max(pontuacao))\n",
        "            soma=soma+maximo            \n",
        "            \n",
        "            n=n+1\n",
        "        result=soma\n",
        "    print(pontuacao)\n",
        "    print(result)\n",
        "\n",
        "\n",
        "pontuacao = []\n",
        "tamanho_do_time = 3\n",
        "k = 4\n",
        "for n in range(1,9):\n",
        "    number=randint(1,90)\n",
        "    pontuacao.append(number)\n",
        "print(pontuacao)\n",
        "result = formacaoDeTime(pontuacao, tamanho_do_time, k)"
      ],
      "execution_count": null,
      "outputs": []
    },
    {
      "cell_type": "markdown",
      "metadata": {
        "id": "t8zVl9HGY2BU"
      },
      "source": [
        ""
      ]
    },
    {
      "cell_type": "code",
      "metadata": {
        "id": "x73Im-JJKaT8"
      },
      "source": [
        "import math\n",
        "a, b, c = [float(x) for x in input().split(\" \")]\n",
        "try:\n",
        "    delta = math.pow(b,2)-4*a*c\n",
        "    r1 = (-b + math.sqrt(delta))/(2*a)\n",
        "    r2 = (-b - math.sqrt(delta))/(2*a)\n",
        "    print(f\"R1 = {r1:.5f}\")\n",
        "    print(f\"R2 = {r2:.5f}\")\n",
        "except (e):\n",
        "    print(e)\n",
        "    print(\"Impossivel calcular\") "
      ],
      "execution_count": null,
      "outputs": []
    },
    {
      "cell_type": "code",
      "metadata": {
        "id": "ZkBdr45tXpLH"
      },
      "source": [
        "\"\"\"Timelimit: 1\n",
        "Leia os quatro valores correspondentes aos eixos x e y de dois pontos quaisquer no plano, \n",
        "p1(x1,y1) e p2(x2,y2) e calcule a distância entre eles, mostrando 4 casas decimais após a vírgula, segundo a fórmula:\n",
        "\n",
        "Distancia =\n",
        "\n",
        "Entrada\n",
        "O arquivo de entrada contém duas linhas de dados. A primeira linha contém dois valores de ponto flutuante: \n",
        "x1 y1 e a segunda linha contém dois valores de ponto flutuante x2 y2.\n",
        "\n",
        "Saída\n",
        "Calcule e imprima o valor da distância segundo a fórmula fornecida, com 4 casas após o ponto decimal.\"\"\"\n",
        " \n",
        "a, b, abs = [float(x) for x in input().split(\" \")]\n"
      ],
      "execution_count": null,
      "outputs": []
    },
    {
      "cell_type": "code",
      "metadata": {
        "id": "Fc4s8eG1Rb5a"
      },
      "source": [
        "import math\n",
        "x1,y1 = [float(x) for x in input().split(\" \")]\n",
        "x2,y2 = [float(y) for y in input().split(\" \")]\n",
        "\n",
        "distancia = math.sqrt((math.pow(x2-x1,2))+(math.pow(y2-y1,2)))\n",
        "\n",
        "print(f\"{distancia:.4f}\")"
      ],
      "execution_count": null,
      "outputs": []
    },
    {
      "cell_type": "code",
      "metadata": {
        "id": "YPIbCWuIazqd"
      },
      "source": [
        "def calculo(salario): \n",
        "    salarionovo = 0\n",
        "    reajuste = 0\n",
        "    percentual = 0      \n",
        "    def saida():\n",
        "        print(f\"Novo salário: R$ {salarionovo:.2f}\\nReajuste ganho: R$ {reajuste:.2f}\\nEm percentual: R$ {percentual}%\")  \n",
        "\n",
        "\n",
        "    if salario <= 400.00:\n",
        "        salarionovo = salario * 1.15\n",
        "        reajuste = salarionovo - salario\n",
        "        percentual = 15\n",
        "        return saida()\n",
        "    elif 400.01 <= salario <= 800.00:\n",
        "        salarionovo = salario * 1.12\n",
        "        reajuste = salarionovo - salario\n",
        "        percentual = 12 \n",
        "        return saida()\n",
        "    elif 800.01 <= salario <= 1200.00:\n",
        "        salarionovo = salario * 1.10\n",
        "        reajuste = salarionovo - salario\n",
        "        percentual = 10\n",
        "        return saida()        \n",
        "    elif 1200.01 <= salario <= 1999.99:\n",
        "        salarionovo = salario * 1.07\n",
        "        reajuste = salarionovo - salario\n",
        "        percentual = 7\n",
        "        return saida()\n",
        "    else:\n",
        "        salarionovo = salario * 1.04\n",
        "        reajuste = salarionovo - salario\n",
        "        percentual = 4\n",
        "        return saida()\n",
        "\n",
        "\n",
        "salario = float(input())\n",
        "calculo(salario) "
      ],
      "execution_count": null,
      "outputs": []
    },
    {
      "cell_type": "code",
      "metadata": {
        "id": "05YKSzW-u7kr"
      },
      "source": [
        "def teste():\n",
        "    numeros = [26,41,42,99,59,83,3,60,19,4]\n",
        "    retorno = []\n",
        "    "
      ],
      "execution_count": null,
      "outputs": []
    },
    {
      "cell_type": "code",
      "metadata": {
        "id": "wpkCIo3G1xWk"
      },
      "source": [
        ""
      ],
      "execution_count": null,
      "outputs": []
    }
  ]
}