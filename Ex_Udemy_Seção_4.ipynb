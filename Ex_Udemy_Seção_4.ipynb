{
  "nbformat": 4,
  "nbformat_minor": 0,
  "metadata": {
    "colab": {
      "name": "Ex Udemy Seção 4.ipynb",
      "provenance": [],
      "collapsed_sections": [],
      "toc_visible": true,
      "include_colab_link": true
    },
    "kernelspec": {
      "name": "python3",
      "display_name": "Python 3"
    }
  },
  "cells": [
    {
      "cell_type": "markdown",
      "metadata": {
        "id": "view-in-github",
        "colab_type": "text"
      },
      "source": [
        "<a href=\"https://colab.research.google.com/github/ricardocidelino/python_curso/blob/main/Ex_Udemy_Se%C3%A7%C3%A3o_4.ipynb\" target=\"_parent\"><img src=\"https://colab.research.google.com/assets/colab-badge.svg\" alt=\"Open In Colab\"/></a>"
      ]
    },
    {
      "cell_type": "code",
      "metadata": {
        "id": "sHHqW5Y5UEYh"
      },
      "source": [
        "'''EX 1'''\n",
        "num = int(input('Insira um número inteiro: '))\n",
        "print(num)"
      ],
      "execution_count": null,
      "outputs": []
    },
    {
      "cell_type": "code",
      "metadata": {
        "id": "KFw8yaGtVjmA"
      },
      "source": [
        "'''EX 2'''\n",
        "num = int(input('Insira um número real: '))\n",
        "print(num)"
      ],
      "execution_count": null,
      "outputs": []
    },
    {
      "cell_type": "code",
      "metadata": {
        "id": "1-iEloYeVrR7"
      },
      "source": [
        "'''EX 3'''\n",
        "soma = 0\n",
        "for n in range(0,3):\n",
        "  num=int(input(f'Digite o {n+1}º número:'))\n",
        "  soma=soma + num\n",
        "print(soma)"
      ],
      "execution_count": null,
      "outputs": []
    },
    {
      "cell_type": "code",
      "metadata": {
        "id": "zjbes7f3WU0t"
      },
      "source": [
        "'''EX 4'''\n",
        "real = int(input('Insira um número real: '))\n",
        "print(real**2)"
      ],
      "execution_count": null,
      "outputs": []
    },
    {
      "cell_type": "code",
      "metadata": {
        "id": "b3jkC0EVaukD"
      },
      "source": [
        "'''EX 5'''\n",
        "real = int(input('Digite um número real: '))\n",
        "print(real/5)\n"
      ],
      "execution_count": null,
      "outputs": []
    },
    {
      "cell_type": "code",
      "metadata": {
        "id": "ffekKvnTbjVV"
      },
      "source": [
        "'''EX 6'''\n",
        "celso=int(input('Digite a temperatura em Celcius para conversão em Fahrenheit: '))\n",
        "f=(celso*9/5)+32\n",
        "print(f'{f:.0f}ºF')\n",
        "print(50-32)  "
      ],
      "execution_count": null,
      "outputs": []
    },
    {
      "cell_type": "code",
      "metadata": {
        "id": "JjSCM4nRc4nf"
      },
      "source": [
        "'''EX 7'''\n",
        "f=int(input('Digite a temperatura em Fahrenheit para conversão em Celcius: '))\n",
        "c=5*(f-32)/9\n",
        "print(f'{c:.0f}ºC')\n"
      ],
      "execution_count": null,
      "outputs": []
    },
    {
      "cell_type": "code",
      "metadata": {
        "id": "s9m_NTgwiElz"
      },
      "source": [
        "'''EX 8'''\n",
        "k=int(input('Insira a temperatura em Kelvin para conversão em Celcius: '))\n",
        "c=k-273.15\n",
        "print(f'{c:.0f}ºC')"
      ],
      "execution_count": null,
      "outputs": []
    },
    {
      "cell_type": "code",
      "metadata": {
        "id": "c2B48UjFfZ5C"
      },
      "source": [
        "'''EX 9'''\n",
        "c=int(input('Insira a temperatura em Celcius para conversão em Kevin: '))\n",
        "k=c+273.15\n",
        "print(f'{k:.0f}ºK')"
      ],
      "execution_count": null,
      "outputs": []
    },
    {
      "cell_type": "code",
      "metadata": {
        "id": "TxNKqklHi7KK"
      },
      "source": [
        "'''EX 10'''\n",
        "k=int(input('Digite a velocidade em kilômetros: '))\n",
        "m=k/3.6\n",
        "print(f'{k:.0f}/h equivale a {m:.0f}/s')"
      ],
      "execution_count": null,
      "outputs": []
    },
    {
      "cell_type": "code",
      "metadata": {
        "id": "zFN8fExAj1QR"
      },
      "source": [
        "'''EX 11'''\n",
        "m=int(input('Digite a velocidade em metros por segundo: '))\n",
        "k=m*3.6\n",
        "print(f'{m:.0f}/s equivale a {k:.0f}/h')"
      ],
      "execution_count": null,
      "outputs": []
    },
    {
      "cell_type": "code",
      "metadata": {
        "id": "9l2mBPi4kx8M"
      },
      "source": [
        "'''EX 12'''\n",
        "m=int(input('Informe a velocidade em milhas para conversão em kilometros: '))\n",
        "k=m*1.61\n",
        "print(f'{m:.0f}m/h é equivalente a {k:.0f}km/h')"
      ],
      "execution_count": null,
      "outputs": []
    },
    {
      "cell_type": "code",
      "metadata": {
        "id": "YXfLx19vllC9"
      },
      "source": [
        "'''EX 13'''\n",
        "k=int(input('Informe a velocidade em kilômetros para conversão em milhas: '))\n",
        "m=k/1.61\n",
        "print(f'{k:.0f}km/h é equivalente a {m:.0f}m/s')"
      ],
      "execution_count": null,
      "outputs": []
    },
    {
      "cell_type": "code",
      "metadata": {
        "id": "66VLxe3jmX6H"
      },
      "source": [
        "'''EX 14'''\n",
        "g=float(input('Insira o ângulo para conversão em graus radianos: '))\n",
        "r=g*3.14/180\n",
        "print(f'radiano {r}')"
      ],
      "execution_count": null,
      "outputs": []
    },
    {
      "cell_type": "code",
      "metadata": {
        "id": "urxrawudmalB"
      },
      "source": [
        "'''EX 15'''\n",
        "r=float(input('Insira o Radiano para conversão em ângulo'))\n",
        "g=r*180/3.14\n",
        "print(f'ângulo {g}')"
      ],
      "execution_count": null,
      "outputs": []
    },
    {
      "cell_type": "code",
      "metadata": {
        "id": "K5IKIJmqmbbI"
      },
      "source": [
        "'''EX 16'''\n",
        "pol=int(input('Digite a polegada para conversão em comprimento: '))\n",
        "comprimento=pol*2.54\n",
        "print(f'{comprimento:.0f}cm')"
      ],
      "execution_count": null,
      "outputs": []
    },
    {
      "cell_type": "code",
      "metadata": {
        "id": "G4BZyGnppRh7"
      },
      "source": [
        "'''EX 17'''\n",
        "comprimento=int(input('Digite o comprimento para conversão em polegada: '))\n",
        "p=c/2.54\n",
        "print(f'{p:.0f} pol')"
      ],
      "execution_count": null,
      "outputs": []
    },
    {
      "cell_type": "code",
      "metadata": {
        "id": "3RwAFiMLpSYq"
      },
      "source": [
        "'''EX 18'''\n",
        "m = int(input('Digite a quantidade em metros cúbicos: '))\n",
        "l=1000*m\n",
        "print(f'{l} litros')"
      ],
      "execution_count": null,
      "outputs": []
    },
    {
      "cell_type": "code",
      "metadata": {
        "id": "m9TRTEejpSp7"
      },
      "source": [
        "'''EX 19'''\n",
        "l=int(input('Digite a quantidade em litros: '))\n",
        "m=l/1000\n",
        "print(f'{m:.0f} m3')"
      ],
      "execution_count": null,
      "outputs": []
    },
    {
      "cell_type": "code",
      "metadata": {
        "id": "V0UebUVlpS_v"
      },
      "source": [
        "'''EX 20'''\n",
        "kilo=int(input('Digite o valor em kilos: '))\n",
        "libra=kilo/0.45\n",
        "print(f'{libra:.2f} lb')"
      ],
      "execution_count": null,
      "outputs": []
    },
    {
      "cell_type": "code",
      "metadata": {
        "id": "XTOdKJPrwzEx"
      },
      "source": [
        "'''EX 21'''\n",
        "libra=int(input('Digite o valor em libras: '))\n",
        "kilo=libra*0.45\n",
        "print(f'{kilo:.2f} kg')"
      ],
      "execution_count": null,
      "outputs": []
    },
    {
      "cell_type": "code",
      "metadata": {
        "id": "J_97kvF6xxEL"
      },
      "source": [
        "'''EX 22'''\n",
        "jarda=int(input('Digite o valor em jardas: '))\n",
        "metro=0,91*jarda\n",
        "print(f'{jarda:.0f} jardas equivale a {metro:.0f} metros')"
      ],
      "execution_count": null,
      "outputs": []
    },
    {
      "cell_type": "code",
      "metadata": {
        "id": "e5xXr2Q_xyAy"
      },
      "source": [
        "'''EX 23'''\n",
        "metro=int(input('Digite o valor em metros'))\n",
        "jarda=metro/0,91\n",
        "print(f'{metro:.0f} metros equivale a {jarda:.0f} jardas')"
      ],
      "execution_count": null,
      "outputs": []
    },
    {
      "cell_type": "code",
      "metadata": {
        "id": "_Sj1O_JUyBFQ"
      },
      "source": [
        "'''EX 24'''\n",
        "acre=int(input('Digite o valor em acre: '))\n",
        "m2=acre*4048.58\n",
        "print(f'{acre:.0f} acres equivalem a {m2:.0f} m2')"
      ],
      "execution_count": null,
      "outputs": []
    },
    {
      "cell_type": "code",
      "metadata": {
        "id": "Uv_MXZWl2PND"
      },
      "source": [
        "'''EX 25'''\n",
        "m2=int(input('Digite o valor em m2: '))\n",
        "acre=m2*0.000247\n",
        "print(f'{m2} m2 equivalem a {acre:.0f} acres')"
      ],
      "execution_count": null,
      "outputs": []
    },
    {
      "cell_type": "code",
      "metadata": {
        "id": "U66gpzjc5DpW"
      },
      "source": [
        "'''EX 26'''\n",
        "m2=int(input('Insira o valor em m2: '))\n",
        "h=m2*0,0001\n",
        "print(f'{m2} equivale a {h:.0f} hectares')"
      ],
      "execution_count": null,
      "outputs": []
    },
    {
      "cell_type": "code",
      "metadata": {
        "id": "DhI3uI8f6xUS"
      },
      "source": [
        "'''EX 27'''\n",
        "h=int(input('Insira o valor em hectares: '))\n",
        "m2=h*10000\n",
        "print(f'{h:.0f} hectares equivalem a {m2:.0f} m2')"
      ],
      "execution_count": null,
      "outputs": []
    },
    {
      "cell_type": "code",
      "metadata": {
        "id": "GkCEaIGl8a8-"
      },
      "source": [
        "'''EX 28'''\n",
        "soma=0\n",
        "for n in range (0,3):\n",
        "    num=int(input(f'Informe o {n+1}º número: '))    \n",
        "    soma=soma+(num**2)\n",
        "print(soma) "
      ],
      "execution_count": null,
      "outputs": []
    },
    {
      "cell_type": "code",
      "metadata": {
        "id": "re8RK3Aw8a1C"
      },
      "source": [
        "'''EX 29'''\n",
        "soma = 0\n",
        "for n in range (0,4):\n",
        "  nota=int(input('informe a {n}ª nota: '))\n",
        "  soma=nota+soma\n",
        "  media=soma/4  \n",
        "print(media)"
      ],
      "execution_count": null,
      "outputs": []
    },
    {
      "cell_type": "code",
      "metadata": {
        "id": "Qg1Mlyb28deB"
      },
      "source": [
        "'''EX 30'''\n",
        "real=float(input('Insira o valor em Reais: R$ '))\n",
        "dolar=float(input('Digite a cotação do dólar atual: US$ 1,00 = R$ '))\n",
        "cambio=real/dolar\n",
        "print(f'Você tem {cambio:.2f} dólares')"
      ],
      "execution_count": null,
      "outputs": []
    },
    {
      "cell_type": "code",
      "metadata": {
        "id": "5BSOvmtKjw1Q"
      },
      "source": [
        "'''EX 31'''\n",
        "num=int(input('Insira um número: '))\n",
        "print(f'O número digitado foi {num} que vem depois do {num-1} e é sucedido por {num+1}')"
      ],
      "execution_count": null,
      "outputs": []
    },
    {
      "cell_type": "code",
      "metadata": {
        "id": "4b87u-i8jwsy"
      },
      "source": [
        "'''EX 32'''\n",
        "num=int(input('Digite um número: '))\n",
        "form=((num+1)*3)+(num*2)-1\n",
        "print(form)"
      ],
      "execution_count": null,
      "outputs": []
    },
    {
      "cell_type": "code",
      "metadata": {
        "id": "X7Juw5lLp-Il",
        "colab": {
          "base_uri": "https://localhost:8080/",
          "height": 51
        },
        "outputId": "6d64d1de-638e-499a-9521-d52124b51797"
      },
      "source": [
        "'''EX 37'''\n",
        "produto=int(input('Digite o valor de um produto: '))\n",
        "desconto=produto*0.88\n",
        "print(desconto)"
      ],
      "execution_count": null,
      "outputs": [
        {
          "output_type": "stream",
          "text": [
            "Digite o valor de um produto: 100\n",
            "88.0\n"
          ],
          "name": "stdout"
        }
      ]
    },
    {
      "cell_type": "code",
      "metadata": {
        "id": "HevXP1HFp-Tm",
        "colab": {
          "base_uri": "https://localhost:8080/",
          "height": 51
        },
        "outputId": "01c5489b-3e5d-473c-f498-25ecc9caee23"
      },
      "source": [
        "'''EX 38'''\n",
        "salario=int(input('Digite o salário: '))\n",
        "aumento=salario*1.25\n",
        "print(f'Com o aumento do salário R${salario:.2f} foi para R${aumento:.2f}.')"
      ],
      "execution_count": null,
      "outputs": [
        {
          "output_type": "stream",
          "text": [
            "Digite o salário: 1000\n",
            "O aumento do salário 1000.00 foi para 1250.00.\n"
          ],
          "name": "stdout"
        }
      ]
    },
    {
      "cell_type": "code",
      "metadata": {
        "id": "e2JEiW3Srulf",
        "colab": {
          "base_uri": "https://localhost:8080/",
          "height": 85
        },
        "outputId": "2c41e3a9-3d28-48d2-8ba7-72b28146ce5f"
      },
      "source": [
        "'''EX 39'''\n",
        "premio=780000.00\n",
        "winner1=premio*0.46\n",
        "winner2=premio*0.32\n",
        "winner3=premio-(winner1+winner2)\n",
        "print(f'O prêmio foi de {premio:.2f} e será dividido para os 3 ganhadores:')\n",
        "print(f'ganhador 1: {winner1:.2f}')\n",
        "print(f'ganhador 2: {winner2:.2f}')\n",
        "print(f'ganhador 3: {winner3:.2f}')"
      ],
      "execution_count": null,
      "outputs": [
        {
          "output_type": "stream",
          "text": [
            "O prêmio foi de 780000.00 e será dividido para os 3 ganhadores:\n",
            "ganhador 1: 358800.00\n",
            "ganhador 2: 249600.00\n",
            "ganhador 3: 171600.00\n"
          ],
          "name": "stdout"
        }
      ]
    },
    {
      "cell_type": "code",
      "metadata": {
        "id": "XLAjg7Exruyl",
        "colab": {
          "base_uri": "https://localhost:8080/",
          "height": 68
        },
        "outputId": "a19a237b-89d0-4fe8-f31e-d927193ae0de"
      },
      "source": [
        "'''EX 40'''\n",
        "dia=int(input('Digite os dias trabalhados: '))\n",
        "ir=(dia*30)*0.92\n",
        "print(f'Valor total dos dias trabalhados: {dia*30:.2f}\\nValor líquido com o IR: {ir:.2f}')"
      ],
      "execution_count": null,
      "outputs": [
        {
          "output_type": "stream",
          "text": [
            "Digite os dias trabalhados: 1\n",
            "Valor total dos dias trabalhados: 30.00\n",
            "Valor líquido com o IR: 27.60\n"
          ],
          "name": "stdout"
        }
      ]
    },
    {
      "cell_type": "code",
      "metadata": {
        "id": "2pXAbZCuru2-",
        "colab": {
          "base_uri": "https://localhost:8080/",
          "height": 85
        },
        "outputId": "8aaefadf-016c-4ae4-c564-ca92bc558b8a"
      },
      "source": [
        "'''EX 41'''\n",
        "hora=int(input('Digite quanto você ganha por hora: '))\n",
        "dia=int(input('Digite quantos dias foram trabalhados: '))\n",
        "salario=((hora*8)*dia)*0.9\n",
        "print(f'Você trabalhou {dia:.0f} dias, totalizando {hora:.0f} horas.\\nValor a receber: {salario:.2f}')"
      ],
      "execution_count": null,
      "outputs": [
        {
          "output_type": "stream",
          "text": [
            "Digite quanto você ganha por hora: 12\n",
            "Digite quantos dias foram trabalhados: 30\n",
            "Você trabalhou 30 totalizando 12 horas.\n",
            "Valor a receber: 2592.00\n"
          ],
          "name": "stdout"
        }
      ]
    },
    {
      "cell_type": "code",
      "metadata": {
        "id": "PC_evwzBuK0t",
        "colab": {
          "base_uri": "https://localhost:8080/",
          "height": 102
        },
        "outputId": "3c0983c2-c28b-43c8-87cb-6d3bad40c33f"
      },
      "source": [
        "'''EX 42'''\n",
        "base=int(input('Digite seu salário: '))\n",
        "salario=(base*1.05)*0.93\n",
        "print(f'Você tem salario base no valor de: R$ {base:.2f}\\nSua gratificação será de R$ {base*0.05:.2f}\\nImposto: R$ {salario*0.07:.2f}\\nSeu salário será: R$ {salario:.2f}')"
      ],
      "execution_count": null,
      "outputs": [
        {
          "output_type": "stream",
          "text": [
            "Digite seu salário: 1000\n",
            "Você tem salario base no valor de: R$ 1000.00\n",
            "Sua gratificação será de R$ 50.0\n",
            "Imposto: R$ 68.36\n",
            "Seu salário será: R$ 976.50\n"
          ],
          "name": "stdout"
        }
      ]
    },
    {
      "cell_type": "code",
      "metadata": {
        "id": "w3s1wPUPuLj2"
      },
      "source": [
        "'''EX 43'''\n",
        "carrinho = 0\n",
        "produto=int(input('Digite o valor da compra: R$ '))\n",
        "total=carrinho+produto\n",
        "desconto=total*0.9\n",
        "parcela=total/3\n",
        "comissao1=desconto*0.05\n",
        "comissao2=total*0.05\n",
        "pag=int(input('1 à vista - 2 parcelado: '))\n",
        "if pag == 1:\n",
        "  print(f'Total a pagar R$ {total:.2f}\\nTotal com desconto à vista R$ {desconto:.2f}\\nComissão à vista: R$: {comissao1:.2f}')\n",
        "elif pag == 2:\n",
        "  print(f'Valor das parcelas R$ {parcela:.2f} 3x sem juros.\\nComissão parcelada: R$ {comissao2}')\n",
        "else:\n",
        "  pag=int(input('Responda corretamente\\n1 à vista - 2 parcelado: ')) "
      ],
      "execution_count": null,
      "outputs": []
    },
    {
      "cell_type": "code",
      "metadata": {
        "id": "xmN6EvFIuLn2"
      },
      "source": [
        "'''EX 44'''\n",
        "degrau=float(input('Digite a altura do degrau que deseja: '))\n",
        "altura=float(input('Digite a altura que deseja subir: '))\n",
        "qtd=altura/degrau\n",
        "print(f'Sua escada terá {qtd:.0f} degraus')"
      ],
      "execution_count": null,
      "outputs": []
    },
    {
      "cell_type": "code",
      "metadata": {
        "id": "34TgpTsCJzja"
      },
      "source": [
        "'''EX 45'''"
      ],
      "execution_count": null,
      "outputs": []
    },
    {
      "cell_type": "code",
      "metadata": {
        "id": "xwRP6rhRJ1sb",
        "colab": {
          "base_uri": "https://localhost:8080/",
          "height": 85
        },
        "outputId": "1e1df2b1-7cff-49a3-d004-d66647fdb4bb"
      },
      "source": [
        "'''EX 46'''\n",
        "lista=list()\n",
        "for n in range(0,3):\n",
        "    num=int(input('Digite um número com 3 dígitos: '))\n",
        "    lista.append(num)\n",
        "lista.reverse()\n",
        "print(lista)"
      ],
      "execution_count": null,
      "outputs": [
        {
          "output_type": "stream",
          "text": [
            "Digite um número com 3 dígitos: 1\n",
            "Digite um número com 3 dígitos: 2\n",
            "Digite um número com 3 dígitos: 3\n",
            "[3, 2, 1]\n"
          ],
          "name": "stdout"
        }
      ]
    },
    {
      "cell_type": "code",
      "metadata": {
        "id": "dBaQ5xfcJ2Ei"
      },
      "source": [
        "'''EX 47'''\n",
        "num=int(input('Insira 4 dígitos: '))\n",
        "print((num))"
      ],
      "execution_count": null,
      "outputs": []
    },
    {
      "cell_type": "code",
      "metadata": {
        "id": "XFCLfHRtoABu"
      },
      "source": [
        "'''EX 47'''\n"
      ],
      "execution_count": null,
      "outputs": []
    }
  ]
}