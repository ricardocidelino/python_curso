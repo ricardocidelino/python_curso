{
  "nbformat": 4,
  "nbformat_minor": 0,
  "metadata": {
    "colab": {
      "name": "Módulos.ipynb",
      "private_outputs": true,
      "provenance": [],
      "mount_file_id": "1EpOV8ADK07-R3Zx3Bz5mO3dWUg1tf4Rr",
      "authorship_tag": "ABX9TyPvSEkUlncn/Ox4Z26S3D4F",
      "include_colab_link": true
    },
    "kernelspec": {
      "name": "python3",
      "display_name": "Python 3"
    }
  },
  "cells": [
    {
      "cell_type": "markdown",
      "metadata": {
        "id": "view-in-github",
        "colab_type": "text"
      },
      "source": [
        "<a href=\"https://colab.research.google.com/github/ricardocidelino/python_curso/blob/main/M%C3%B3dulos.ipynb\" target=\"_parent\"><img src=\"https://colab.research.google.com/assets/colab-badge.svg\" alt=\"Open In Colab\"/></a>"
      ]
    },
    {
      "cell_type": "code",
      "metadata": {
        "id": "3q1uUvInuFyn"
      },
      "source": [
        "def fatorial(num):\n",
        "    f=1\n",
        "    for i in range(1,num+1):\n",
        "        f*=i        \n",
        "    return f\n",
        "\n",
        "\n",
        "num=int(input(\"Digite um número: \"))\n",
        "fat=fatorial(num)\n",
        "print(f\"\\nO fatorial de {num} é: {fat}\")\n"
      ],
      "execution_count": null,
      "outputs": []
    },
    {
      "cell_type": "code",
      "metadata": {
        "id": "uU_kE2ZkVfdN"
      },
      "source": [
        "''' entrada de dados URI a,b,c = [float(x) for x in input().split(' ')]'''\n",
        "\n",
        "''' O arquivo de entrada contém dois inteiros. O primeiro é o tempo gasto na viagem (em horas) \n",
        "e o segundo é a velocidade média durante a mesma (em km/h).\n",
        "'''\n",
        "\n",
        "\n",
        "tempo,vel_media = [float(x) for x in input().split(\" \")]\n",
        "distancia = tempo*vel_media\n",
        "litros=distancia/12\n",
        "print(f\"{litros:.3f}\")"
      ],
      "execution_count": null,
      "outputs": []
    },
    {
      "cell_type": "code",
      "metadata": {
        "id": "p_EW-975Ze0-"
      },
      "source": [
        "'''Exercício Python 087: Aprimore o desafio anterior, mostrando no final:\n",
        "A) A soma de todos os valores pares digitados.\n",
        "B) A soma dos valores da terceira coluna.\n",
        "C) O maior valor da segunda linha.'''\n",
        "\n",
        "from time import sleep\n",
        "matriz=[[0,0,0],[0,0,0],[0,0,0]]\n",
        "spar = maior = somcol = 0\n",
        "\n",
        "'''Coleta de dados'''\n",
        "for x in range(3):\n",
        "    for y in range(3):\n",
        "        matriz[x][y]=int(input(f'Digite o número [{x},{y}]: '))\n",
        "print('*-'*15)\n",
        "'''Printando os dados'''\n",
        "for x in range(3):\n",
        "    for y in range(3):\n",
        "        print(f'[{matriz[x][y]}]',end='')\n",
        "        if matriz[x][y] % 2 == 0:\n",
        "            spar+=matriz[x][y]\n",
        "    print()\n",
        "print(f'A soma dos valores pares é {spar}')\n",
        "\n",
        "\n",
        "for x in range(3):\n",
        "    somcol+=matriz[x][2]\n",
        "print(f'A soma dos valores da terceira coluna: {somcol}')\n",
        "for c in range(3):\n",
        "    if c == 0 or matriz[1][y] > maior:\n",
        "        maior = matriz[1][y]\n",
        "print(f'O maior valor da segunda linha: {maior}')"
      ],
      "execution_count": null,
      "outputs": []
    },
    {
      "cell_type": "code",
      "metadata": {
        "id": "6xNLZO5elhVF"
      },
      "source": [
        "def comanda():\n",
        "    def imprimir(total):\n",
        "        print(\"--------------------------------\")\n",
        "        print(f'    Total à Pagar R$ {total:.2f}')        \n",
        "        print(\"--------------------------------\")\n",
        "        print(\"         Volte Sempre =)    \")\n",
        "        print(\"--------------------------------\")\n",
        "    total=0\n",
        "    print('---------------------------------')\n",
        "    valores='Cerveja R$ 20,00\\nRefri R$ 10,00\\nWhisky R$ 30,00\\nDébito R$ 10,00'\n",
        "    print(valores)\n",
        "    print('---------------------------------')\n",
        "    while True:    \n",
        "        qtdCerveja=int(input(\"Qtde Cerveja: \"))\n",
        "        total+=(qtdCerveja*20)\n",
        "        qtdRefri = int(input(\"Qtde Refri: \"))\n",
        "        total+=(qtdRefri*10)\n",
        "        qtdWhisky = int(input(\"Qtde Whisky: \"))\n",
        "        total+=(qtdWhisky*30)\n",
        "        debito = str(input(\"Debito? S/N \")).upper()\n",
        "        if debito in \"SIM\" or debito in \"S\":\n",
        "            total+=10                \n",
        "        return imprimir(total)                          \n",
        "\n",
        "\n",
        "comanda()"
      ],
      "execution_count": null,
      "outputs": []
    },
    {
      "cell_type": "code",
      "metadata": {
        "id": "7tHpJxghqOA5"
      },
      "source": [
        "salario = float(input())\n",
        "if salario < 2000:\n",
        "    print(\"Isento\")\n",
        "elif salario > 2000.01 and salario < 3000:\n",
        "    ir = 1000*0.08+((salario - 2000.0) * 0.08)\n",
        "    print(f\"R$ {ir:.2f}\")\n",
        "elif salario > 3000.01 and salario < 4500:    \n",
        "    ir = 1000.0 * 0.08 + ((salario - 3000.0) * 0.18)\n",
        "    print(f\"R$ {ir:.2f}\")\n",
        "else:\n",
        "    ir = (1000.0 * 0.08) + 1500.0 * 0.18 + (salario - 4500.0) * 0.28\n",
        "    print(f\"R$ {ir:.2f}\")"
      ],
      "execution_count": null,
      "outputs": []
    },
    {
      "cell_type": "code",
      "metadata": {
        "id": "531IIvGU9loT"
      },
      "source": [
        "ddd={11:'São Paulo',61:\"Brasília\",71:\"Salvador\",\n",
        "     21:\"Rio de Janeiro\",32:\"Juiz de Fora\",\n",
        "     19:\"Campinas\",27:\"Vitória\",31:\"Belo Horizonte\"}\n",
        "\n",
        "\n",
        "cod=int(input(\"Digite o DDD: \"))\n",
        "if cod not in ddd:\n",
        "    print(\"Não existe\")\n",
        "else:\n",
        "    print(ddd[cod])"
      ],
      "execution_count": null,
      "outputs": []
    }
  ]
}