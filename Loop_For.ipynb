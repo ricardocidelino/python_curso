{
  "nbformat": 4,
  "nbformat_minor": 0,
  "metadata": {
    "colab": {
      "name": "Loop For.ipynb",
      "provenance": [],
      "include_colab_link": true
    },
    "kernelspec": {
      "name": "python3",
      "display_name": "Python 3"
    }
  },
  "cells": [
    {
      "cell_type": "markdown",
      "metadata": {
        "id": "view-in-github",
        "colab_type": "text"
      },
      "source": [
        "<a href=\"https://colab.research.google.com/github/ricardocidelino/python_curso/blob/main/Loop_For.ipynb\" target=\"_parent\"><img src=\"https://colab.research.google.com/assets/colab-badge.svg\" alt=\"Open In Colab\"/></a>"
      ]
    },
    {
      "cell_type": "markdown",
      "metadata": {
        "id": "g07w3bTeld3A"
      },
      "source": [
        "Estrutura de repetição FOR\n",
        "for ITEM in INTERÁVEl\n",
        "    EXCECUÇÃO DO LOOP\n",
        "\n",
        "Os loops são utilizados para iterar sequência ou sobre valores iteráveis\n",
        "STRING\n",
        "LISTAS\n",
        "RANGE\n"
      ]
    },
    {
      "cell_type": "code",
      "metadata": {
        "id": "2wacLLu_nhYY"
      },
      "source": [
        "nome = 'Ricardo Cidelino'\n",
        "lista = [1,3,5,7,9,11]\n",
        "#num = range (1,10) #tem que transformar em lista\n",
        "\n",
        "#exemplo 1 iteração com string:\n",
        "#for letra in nome:\n",
        "  #print(letra)\n",
        "\n",
        "#exemplo 2 iteração com lista\n",
        "#for numero in lista:\n",
        "#  print(numero)\n",
        "\n",
        "#exemplo 3 interando com um range\n",
        "'''for valor in enumerate(nome):\n",
        "  print(valor[0])'''\n",
        "\n",
        "qtd = int(input('Quantos loop você deseja? '))\n",
        "for n in range(0,qtd):\n",
        "  print(f'imprimindo {n}')"
      ],
      "execution_count": null,
      "outputs": []
    }
  ]
}