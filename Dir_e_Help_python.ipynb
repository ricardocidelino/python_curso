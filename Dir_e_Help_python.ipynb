{
  "nbformat": 4,
  "nbformat_minor": 0,
  "metadata": {
    "colab": {
      "name": "Dir e Help python.ipynb",
      "provenance": [],
      "toc_visible": true,
      "include_colab_link": true
    },
    "kernelspec": {
      "name": "python3",
      "display_name": "Python 3"
    }
  },
  "cells": [
    {
      "cell_type": "markdown",
      "metadata": {
        "id": "view-in-github",
        "colab_type": "text"
      },
      "source": [
        "<a href=\"https://colab.research.google.com/github/ricardocidelino/python_curso/blob/main/Dir_e_Help_python.ipynb\" target=\"_parent\"><img src=\"https://colab.research.google.com/assets/colab-badge.svg\" alt=\"Open In Colab\"/></a>"
      ]
    },
    {
      "cell_type": "code",
      "metadata": {
        "id": "X-vnd6yUDqED"
      },
      "source": [
        "'''\n",
        "Dir e Help\n",
        "\n",
        "utilitários python para facilitar a programação\n",
        "\n",
        "dir: Apresenta todos os atributos e funções/métodos disponíveis para determinado tipo de dado ou variável\n",
        "\n",
        "dir(tipo de dado ou variável)\n",
        "\n",
        "help: Apresenta a documentação/como utilizar os atributos/propriedades e funçoes/metodos \n",
        "disponíveis para determinado tipo de dado ou variável\n",
        "\n",
        "help(tipo de dado/variável.propriedade)\n",
        "'''\n"
      ],
      "execution_count": null,
      "outputs": []
    },
    {
      "cell_type": "code",
      "metadata": {
        "id": "3DsCoUlJs2ti",
        "colab": {
          "base_uri": "https://localhost:8080/",
          "height": 130
        },
        "outputId": "ecf020f6-07e4-4d3f-8585-bb23dca33a51"
      },
      "source": [
        "while True:\n",
        "  idade=int(input(\"Digite a idade:\"))\n",
        "  if idade <= 17:\n",
        "    print('Menor de idade')\n",
        "  else:\n",
        "    print('Maior de idade')\n",
        "  cont=str(input('Deseja continuar? S/N: '))\n",
        "  if cont in 'SsNn':\n",
        "    for cont in 'Ss':\n",
        "    continue\n",
        "  \n",
        "  else:"
      ],
      "execution_count": null,
      "outputs": [
        {
          "output_type": "error",
          "ename": "IndentationError",
          "evalue": "ignored",
          "traceback": [
            "\u001b[0;36m  File \u001b[0;32m\"<ipython-input-35-c53d1e8f6d3e>\"\u001b[0;36m, line \u001b[0;32m8\u001b[0m\n\u001b[0;31m    if cont in 'Ss':\u001b[0m\n\u001b[0m    ^\u001b[0m\n\u001b[0;31mIndentationError\u001b[0m\u001b[0;31m:\u001b[0m unexpected indent\n"
          ]
        }
      ]
    },
    {
      "cell_type": "code",
      "metadata": {
        "id": "5mO_SubzjQ_G",
        "colab": {
          "base_uri": "https://localhost:8080/",
          "height": 238
        },
        "outputId": "a15c6d57-63e9-4e95-ebd1-5673b0172dbb"
      },
      "source": [
        "from random import randint\n",
        "v = 0\n",
        "print('\\033[1;33m-.\\033[m'*13)\n",
        "print('\\033[1;32mVAMOS JOGAR PAR OU ÍMPAR')\n",
        "print('\\033[1;33m-.\\033[m'*13)\n",
        "while True:\n",
        "    num = int(input('Escolha um número: '))\n",
        "    pc = randint(0, 11)\n",
        "    total = num + pc\n",
        "    tipo = ' '\n",
        "    while tipo not in 'PpIi':\n",
        "        tipo = str(input('Par ou Ímpar? [P/I] ')).upper()[0].strip()\n",
        "        print(f'Você jogou {num} e o computador {pc}. Total {total}', end=' ')\n",
        "        print('\\033[1;34mDEU PAR!\\033[m' if total % 2 == 0 else '\\033[1;36mDEU ÍMPAR!\\033[m')\n",
        "    if tipo in 'P':\n",
        "        if total % 2 == 0:\n",
        "            print('\\033[1;32Você venceu!\\033[m')\n",
        "            v += 1\n",
        "        else:\n",
        "            print('\\033[1;31mVocê perdeu\\033[m')\n",
        "            break\n",
        "    elif tipo in 'I':\n",
        "        if total % 2 == 1:\n",
        "            print('\\033[1;32Você venceu!\\033[m')\n",
        "            v += 1\n",
        "        else:\n",
        "            print('\\033[1;31mVocê perdeu\\033[m')\n",
        "            break\n",
        "    print('\\033[1;35mVamos jogar novamente...\\033[m')\n",
        "print(f'GAME OVER! Você venceu {v} vezes.')"
      ],
      "execution_count": null,
      "outputs": [
        {
          "output_type": "stream",
          "text": [
            "\u001b[1;33m-.\u001b[m\u001b[1;33m-.\u001b[m\u001b[1;33m-.\u001b[m\u001b[1;33m-.\u001b[m\u001b[1;33m-.\u001b[m\u001b[1;33m-.\u001b[m\u001b[1;33m-.\u001b[m\u001b[1;33m-.\u001b[m\u001b[1;33m-.\u001b[m\u001b[1;33m-.\u001b[m\u001b[1;33m-.\u001b[m\u001b[1;33m-.\u001b[m\u001b[1;33m-.\u001b[m\n",
            "\u001b[1;32mVAMOS JOGAR PAR OU ÍMPAR\n",
            "\u001b[1;33m-.\u001b[m\u001b[1;33m-.\u001b[m\u001b[1;33m-.\u001b[m\u001b[1;33m-.\u001b[m\u001b[1;33m-.\u001b[m\u001b[1;33m-.\u001b[m\u001b[1;33m-.\u001b[m\u001b[1;33m-.\u001b[m\u001b[1;33m-.\u001b[m\u001b[1;33m-.\u001b[m\u001b[1;33m-.\u001b[m\u001b[1;33m-.\u001b[m\u001b[1;33m-.\u001b[m\n",
            "Escolha um número: 1\n",
            "Par ou Ímpar? [P/I] i\n",
            "Você jogou 1 e o computador 2. Total 3 \u001b[1;36mDEU ÍMPAR!\u001b[m\n",
            "\u001b[1;32Você venceu!\u001b[m\n",
            "\u001b[1;35mVamos jogar novamente...\u001b[m\n",
            "Escolha um número: 4\n",
            "Par ou Ímpar? [P/I] p\n",
            "Você jogou 4 e o computador 7. Total 11 \u001b[1;36mDEU ÍMPAR!\u001b[m\n",
            "\u001b[1;31mVocê perdeu\u001b[m\n",
            "GAME OVER! Você venceu 1 vezes.\n"
          ],
          "name": "stdout"
        }
      ]
    }
  ]
}