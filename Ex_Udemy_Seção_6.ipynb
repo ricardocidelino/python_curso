{
  "nbformat": 4,
  "nbformat_minor": 0,
  "metadata": {
    "colab": {
      "name": "Ex Udemy Seção 6.ipynb",
      "provenance": [],
      "collapsed_sections": [],
      "include_colab_link": true
    },
    "kernelspec": {
      "name": "python3",
      "display_name": "Python 3"
    }
  },
  "cells": [
    {
      "cell_type": "markdown",
      "metadata": {
        "id": "view-in-github",
        "colab_type": "text"
      },
      "source": [
        "<a href=\"https://colab.research.google.com/github/ricardocidelino/python_curso/blob/main/Ex_Udemy_Se%C3%A7%C3%A3o_6.ipynb\" target=\"_parent\"><img src=\"https://colab.research.google.com/assets/colab-badge.svg\" alt=\"Open In Colab\"/></a>"
      ]
    },
    {
      "cell_type": "code",
      "metadata": {
        "id": "UblGi-gWdntl"
      },
      "source": [
        "'''EX 1'''\n",
        "m=3\n",
        "for m in range(1,6):\n",
        "  print(f'{m}x3= {m*3}')"
      ],
      "execution_count": null,
      "outputs": []
    },
    {
      "cell_type": "code",
      "metadata": {
        "id": "aXxcxknGds1J"
      },
      "source": [
        "'''EX 2'''\n",
        "for n in range(0,100):\n",
        "  print(n+1,end=' ')\n",
        "cont1=0\n",
        "while cont1 < 100:\n",
        "  cont1+=1\n",
        "  print(cont1,end=' ')\n",
        "cont=0\n",
        "while cont < 100:\n",
        "  cont+=1\n",
        "  print(cont,end=' ')"
      ],
      "execution_count": null,
      "outputs": []
    },
    {
      "cell_type": "code",
      "metadata": {
        "id": "1Oj-8WnkdpQS"
      },
      "source": [
        "'''EX 3'''\n",
        "cont=11\n",
        "while cont > 0:\n",
        "  cont-=1\n",
        "  print(cont)\n",
        "print('Fim')"
      ],
      "execution_count": null,
      "outputs": []
    },
    {
      "cell_type": "code",
      "metadata": {
        "id": "ShP3QiP1PipQ"
      },
      "source": [
        "'''EX 4'''\n",
        "cont=0\n",
        "while cont < 100000:\n",
        "  cont+=1000\n",
        "  print(cont)"
      ],
      "execution_count": null,
      "outputs": []
    },
    {
      "cell_type": "code",
      "metadata": {
        "id": "_sd4T5nadpX0"
      },
      "source": [
        "'''EX 5'''\n",
        "total=0\n",
        "for n in range(0,11):\n",
        "  total+=n\n",
        "  n=int(input('Digite um valor: '))\n",
        "print(total)"
      ],
      "execution_count": null,
      "outputs": []
    },
    {
      "cell_type": "code",
      "metadata": {
        "id": "BV8-5xCCdpeo"
      },
      "source": [
        "'''EX 6'''\n",
        "print('Informe dez números inteiros para que seja tirada a média deles')\n",
        "soma = 0\n",
        "counter = 1\n",
        "while counter <= 10:\n",
        "    operando = int(input(f'Informe o {counter}º número, por favor:'))\n",
        "    soma = soma + operando\n",
        "    counter = counter + 1\n",
        "media = soma / 10\n",
        "print(f'A média dos valores informados é {media}.')"
      ],
      "execution_count": null,
      "outputs": []
    },
    {
      "cell_type": "code",
      "metadata": {
        "id": "hF4eS6iBdkjo"
      },
      "source": [
        "'''EX 7'''\n",
        "soma=0\n",
        "counter=1\n",
        "while counter <= 10:\n",
        "  operando=int(input(f'Digite o {counter}º número: '))  \n",
        "  if operando > 0:\n",
        "    counter=counter+1    \n",
        "  else:\n",
        "    break\n",
        "  soma = soma + opera2ndo  \n",
        "media = soma/10\n",
        "print(f'média: {media}')"
      ],
      "execution_count": null,
      "outputs": []
    },
    {
      "cell_type": "code",
      "metadata": {
        "id": "7mOc3Wrzos1R"
      },
      "source": [
        "'''EX 8'''\n",
        "lista=list()\n",
        "counter = 1\n",
        "while counter <= 10:\n",
        "  operando = int(input(f'Digite o {counter} valor: '))\n",
        "  counter+=1\n",
        "  lista.append(operando)\n",
        "print(min(lista))\n",
        "print(max(lista))\n"
      ],
      "execution_count": null,
      "outputs": []
    },
    {
      "cell_type": "code",
      "metadata": {
        "id": "WBZ-aHbqotJs"
      },
      "source": [
        "'''EX 9'''\n",
        "n = int(input('Informe um Numero : '))\n",
        "qtd = n * 3\n",
        "for n in range(n, qtd):\n",
        "    impar = n % 2\n",
        "    if impar != 0:\n",
        "        print(n)"
      ],
      "execution_count": null,
      "outputs": []
    },
    {
      "cell_type": "code",
      "metadata": {
        "id": "sqarunvnosxr"
      },
      "source": [
        "'''EX 10'''\n",
        "for n in range(1,51):\n",
        "  par = n % 2\n",
        "  if par == 0:\n",
        "    print(n)"
      ],
      "execution_count": null,
      "outputs": []
    },
    {
      "cell_type": "code",
      "metadata": {
        "id": "UCISs620oxcC"
      },
      "source": [
        "'''EX 11'''\n",
        "n=int(input('Digite o número: '))\n",
        "for n in range(0,n+1):\n",
        "  print(n)"
      ],
      "execution_count": null,
      "outputs": []
    },
    {
      "cell_type": "code",
      "metadata": {
        "id": "IztBD7cKoyq3"
      },
      "source": [
        "'''EX 12'''\n",
        "n=int(input('Digite o número: '))\n",
        "for n in range(n,0,-1):\n",
        "  print(n)"
      ],
      "execution_count": null,
      "outputs": []
    },
    {
      "cell_type": "code",
      "metadata": {
        "id": "a90UIL8Eo2-y"
      },
      "source": [
        "'''EX 13'''\n",
        "n=int(input('Digite o número: '))\n",
        "for n in range(0,n,2):\n",
        "  print(n)"
      ],
      "execution_count": null,
      "outputs": []
    },
    {
      "cell_type": "code",
      "metadata": {
        "id": "KIx2Z5Bto01j"
      },
      "source": [
        "'''EX 14'''\n",
        "n=int(input('Digite o número: '))\n",
        "for n in range(n,0,-2):\n",
        "  print(n)"
      ],
      "execution_count": null,
      "outputs": []
    },
    {
      "cell_type": "code",
      "metadata": {
        "id": "Z6xOJs_2o18b"
      },
      "source": [
        "'''EX 15'''  \n",
        "n=int(input('Digite o número: '))\n",
        "for n in range(1,n+2,2):\n",
        "  print(n)"
      ],
      "execution_count": null,
      "outputs": []
    },
    {
      "cell_type": "code",
      "metadata": {
        "id": "VWWrvXl2o4Qm"
      },
      "source": [
        "'''EX 16''' \n",
        "n=int(input('Digite o número: '))\n",
        "for n in range(n,0,-2):\n",
        "  print(n)"
      ],
      "execution_count": null,
      "outputs": []
    },
    {
      "cell_type": "code",
      "metadata": {
        "id": "iY88isi-o5Tc"
      },
      "source": [
        "'''EX 17''' \n",
        "n = int(input('digite um numero : '))\n",
        "soma = n * (n+1)//2\n",
        "print(f' a soma dos {n} primeiros termos é {soma}')"
      ],
      "execution_count": null,
      "outputs": []
    },
    {
      "cell_type": "code",
      "metadata": {
        "id": "hbmY-k1Io6dd"
      },
      "source": [
        "'''EX 18'''  \n",
        "lista=list()\n",
        "contador = 0\n",
        "n = int (input('Digite quantas números quer digitar: '))\n",
        "for n in range(0,n):\n",
        "  num = int(input('Digite o número: '))\n",
        "  contador = contador + 1\n",
        "  lista.append(num)\n",
        "print(f'O número maior {max(lista)} foi digitado {lista.count(max(lista))} vezes')\n"
      ],
      "execution_count": null,
      "outputs": []
    },
    {
      "cell_type": "code",
      "metadata": {
        "id": "a9eJw21Xy4A9"
      },
      "source": [
        "'''EX 19''' \n",
        "n = int(input('Digite um número entre 100 e 999: '))\n",
        "if 100 <= n <= 999:\n",
        "    for _, c in enumerate(str(n)):#enumerate imprime cada uma das strings \n",
        "        print(c)\n",
        "else:\n",
        "    print('Número inválido!')"
      ],
      "execution_count": null,
      "outputs": []
    },
    {
      "cell_type": "code",
      "metadata": {
        "id": "kptYfF7Zo9HU"
      },
      "source": [
        "'''EX 20'''\n",
        "'''Ler uma sequência de números inteiros e determinar se eles são pares ou não. \n",
        "Deverá ser informado o número de dados lidos e números de valores diferentes. \n",
        "O processo termina quando for digitado o número 1000.'''\n",
        "dados=list()\n",
        "from collections import Counter\n",
        "count=0\n",
        "while True:\n",
        "  num=int(input('Digite o número: '))\n",
        "  count+=1    \n",
        "  if num == 1000:\n",
        "    count-=1\n",
        "    break\n",
        "    print('Programa encerrado.')\n",
        "  elif num % 2 == 0:\n",
        "    dados.append(num)\n",
        "    print(f'{num} é par.')\n",
        "  elif num % 2 != 0:\n",
        "    dados.append(num)\n",
        "    print(f'{num} é ímpar.')\n",
        "\n",
        "print(f'{count} dados lidos {Counter(dados)}')\n",
        "#incompleto"
      ],
      "execution_count": null,
      "outputs": []
    },
    {
      "cell_type": "code",
      "metadata": {
        "id": "qusrNwLLo-wk"
      },
      "source": [
        "'''EX 21''' \n",
        "'''Faça um programa que receba 2 números. Calcule e mostre:\n",
        "- a soma dos números pares desse intervalo de números, incluindo os números digitados;\n",
        "- a múltiplicação dos números ímpares desse intervalo, incluindo os digitados.'''\n",
        "\n",
        "num1 = int(input('Digite um número para X: '))\n",
        "num2 = int(input('Digite um número para Y: '))\n",
        " \n",
        "while x < y or x == y:\n",
        "  print('O valor de X deve ser maior que o valor de Y')\n",
        "  num1 = int(input('Digite um número para X: '))\n",
        "  num2 = int(input('Digite um número para Y: '))\n",
        "\n",
        "print(f'Pronto, {x} é maior que {y}')\n",
        "\n",
        "lista = []\n",
        "somapar = 0\n",
        "multi = 1\n",
        "if num2 < num1: # forma de inverter os números se estiverem com o primeiro menor que o segundo\n",
        "  pri_num = num2\n",
        "  seg_num = num1\n",
        "  for c in range(pri_num, seg_num + 1):\n",
        "    if c % 2 == 0:\n",
        "      somapar = somapar + c\n",
        "    elif c % 2 == 1:\n",
        "      multi = multi * c\n",
        "      lista.append(c)\n",
        "print(f'os numeros gerados entre {pri_num} e {seg_num} e : {lista}')\n",
        "print(f'a soma dos numeros pares é {somapar}')\n",
        "print(f'a multiplicacao entre os numeros impares e {multi}')\n",
        "else:\n",
        "  for c in range(num1, num2 + 1):\n",
        "  if c % 2 == 0:\n",
        "    somapar = somapar + c\n",
        "  elif c % 2 == 1:\n",
        "    multi = multi * c\n",
        "    lista.append(c)\n",
        "print(f'os numeros gerados entre {num1} e {num2} e : {lista}')\n",
        "print(f'a soma dos numeros pares é {somapar}')\n",
        "print(f'a multiplicacao entre os numeros impares e {multi}')"
      ],
      "execution_count": null,
      "outputs": []
    },
    {
      "cell_type": "code",
      "metadata": {
        "id": "uHNYgm0Do_4A"
      },
      "source": [
        "'''EX 22''' \n",
        "'''Escreva um programa completo que permita a qualquer aluno introduzir, pelo teclado\n",
        "uma sequência arbitrária de notas (válidas no intervalo de 10 a 20) e que mostre na tela,\n",
        "como resultado, a correspondente média aritimética. O número de notas com que o aluno \n",
        "pretenda efetuar o cálcuo não será fornecido ao programa, o qual terminará quando for \n",
        "introduzido um valor que não seja válido como nota de aprovação.'''\n",
        "soma = 0\n",
        "count = 0\n",
        "while True:\n",
        "  nota = int(input('Digite a nota: '))    \n",
        "  if nota < 10:        \n",
        "    break\n",
        "  elif nota > 20:\n",
        "    break\n",
        "  else:\n",
        "    count += 1\n",
        "    soma=nota+soma\n",
        "media = soma/count\n",
        "print(f'De acordo com as {count} notas apresentadas. \\nSua média foi {media:.1f}')"
      ],
      "execution_count": null,
      "outputs": []
    },
    {
      "cell_type": "code",
      "metadata": {
        "id": "9h32C692pBOG"
      },
      "source": [
        "'''EX 23'''\n",
        "'''Faça um algorítimo que leia um número positivo e imprima seus divisores'''\n",
        "print('Digite um número e encontre seus divisores')\n",
        "num=int(input('número dividendo: '))\n",
        "for n in range(1,num+1):  \n",
        "  if num % n == 0:\n",
        "    print(f'O número {num} é divisível por: {num/n:.0f}')    "
      ],
      "execution_count": null,
      "outputs": []
    },
    {
      "cell_type": "code",
      "metadata": {
        "id": "TZm2FyPBpEDN"
      },
      "source": [
        "'''EX 24'''\n",
        "'''Escreva um programa que leia um número inteiro \n",
        "e calcule a soma de todos os divisores desse número, com exceção dele próprio.\n",
        "Ex: a soma dos divisores do número 66 é 1+2+3+6+11+22+33=78'''\n",
        "num=int(input('Digite um número inteiro: '))\n",
        "soma=0\n",
        "n=None\n",
        "print(f'A soma dos divisores do número {num} é: ',end='')\n",
        "for n in range(1,num):\n",
        "  if num % n == 0:    \n",
        "    soma=soma+n\n",
        "    print(f'{n} ', end='')    \n",
        "print('=',soma)"
      ],
      "execution_count": null,
      "outputs": []
    },
    {
      "cell_type": "code",
      "metadata": {
        "id": "pKJHxtXUpFk_"
      },
      "source": [
        "'''EX 25'''\n",
        "'''Faça um programa que some todos os números naturais abaixo de 1000 que são múltiplos de 3 ou 5'''\n",
        "for n in range(1,1000):\n",
        "  if n % 3 == 0:\n",
        "    print(n,end=' ')\n",
        "  elif n % 5 == 0:\n",
        "    print(n,end=' ')"
      ],
      "execution_count": null,
      "outputs": []
    },
    {
      "cell_type": "code",
      "metadata": {
        "id": "0R_vj4eYt4ng"
      },
      "source": [
        "'''EX 26'''\n",
        "'''Faça um algorítimo que encontre o primeiro múltiplo de 11,13 ou 17 após um número dado.'''\n",
        "numero = int(input('Informe um número: '))\n",
        " \n",
        "while True:\n",
        "    numero = numero + 1\n",
        "    if numero % 11 == 0:\n",
        "        print(f'O número {numero} é múltiplo de 11')\n",
        "        break\n",
        "    elif numero % 13 == 0:\n",
        "        print(f'O número {numero} é múltiplo de 13')\n",
        "        break\n",
        "    elif numero % 17 == 0:\n",
        "        print(f'O número {numero} é múltiplo de 17')\n",
        "        break\n",
        "print('Fim do programa')"
      ],
      "execution_count": null,
      "outputs": []
    },
    {
      "cell_type": "code",
      "metadata": {
        "id": "56dW8_BXt5BD"
      },
      "source": [
        "'''EX 27'''\n",
        "'''Em Matematica, o número harmônico designado por H(n) definese como sendo a soma de uma série harmônica:\n",
        "H(n)= 1+1/2+1/3+1/4+...1/n\n",
        "Faça um programa que leia um valor n inteiro e positivo e apresente o valor de H(n)'''\n"
      ],
      "execution_count": null,
      "outputs": []
    },
    {
      "cell_type": "code",
      "metadata": {
        "id": "NMtJ_Iyot49c"
      },
      "source": [
        "'''EX 28''' \n",
        "'''Fala um programa que leia um valor N inteiro e positivo, calcule e mostre o valor E, conforme a fórmula a seguir\n",
        "E = 1+1/1!+1/2!+1/3!+...+1/N!'''\n",
        "n = int(input(\"Digite um número inteiro não-negativo: \"))\n",
        "n_fat = 1\n",
        "for i in range(2,n+1):\n",
        "  n_fat = n_fat * i \n",
        "  print(n_fat)"
      ],
      "execution_count": null,
      "outputs": []
    },
    {
      "cell_type": "code",
      "metadata": {
        "id": "By6o4-B6xvaz"
      },
      "source": [
        "'''EX 29''' \n"
      ],
      "execution_count": null,
      "outputs": []
    },
    {
      "cell_type": "code",
      "metadata": {
        "id": "7FS4PL9ct42N"
      },
      "source": [
        "'''EX 30''' "
      ],
      "execution_count": null,
      "outputs": []
    },
    {
      "cell_type": "code",
      "metadata": {
        "id": "bsMNaPz1t4h7"
      },
      "source": [
        "'''EX 31'''"
      ],
      "execution_count": null,
      "outputs": []
    },
    {
      "cell_type": "code",
      "metadata": {
        "id": "aKYUvFjyt_HG"
      },
      "source": [
        "'''EX 32''' \n",
        "from random import randint\n",
        "print('Vamos jogar? escolha um dado e vença!')\n",
        "d1=randint(1,6)\n",
        "d2=randint(1,6)\n",
        "while True:\n",
        "  dado=int(input('Escolha um dado (1 ou 2): '))\n",
        "  if dado == 1:\n",
        "    if d1 > d2:\n",
        "      print(f'Dado 1: {d1}, dado 2: {d2} você venceu!')\n",
        "      break\n",
        "    elif d2 < d1:\n",
        "      print(f'Dado 1: {d1}, dado 2: {d2} você perdeu!')\n",
        "      break\n",
        "    else:\n",
        "      print(f'EMPATOU! {d1} e {d2}')\n",
        "      break\n",
        "  elif dado == 2:\n",
        "    if d2 > d1:\n",
        "      print(f'Dado 2: {d2}, dado 1: {d1} você venceu!')\n",
        "      break\n",
        "    elif d2 < d1:\n",
        "      print(f'Dado 2: {d2}, dado 1: {d1} você perdeu!')\n",
        "      break      \n",
        "    else:\n",
        "      print(f'EMPATOU! {d1} e {d2}')\n",
        "      break\n",
        "  else:\n",
        "    print('Erro: digite 1 ou 2')\n",
        "    dado=int(input('Escolha um dado (1 ou 2): '))\n",
        "    continue"
      ],
      "execution_count": null,
      "outputs": []
    },
    {
      "cell_type": "code",
      "metadata": {
        "id": "GrZ-o-6Rt_zq"
      },
      "source": [
        "'''EX 33''' \n",
        "\n",
        "  "
      ],
      "execution_count": null,
      "outputs": []
    },
    {
      "cell_type": "code",
      "metadata": {
        "id": "maDzYnSet_xN"
      },
      "source": [
        "'''EX 34''' \n",
        "'''Faça um programa que calcule o menor número divisível por cada um dos números de 1 a 20. \n",
        "Ex: 2520 é o menor número que pode ser dividido por cada um dos números de 1 a 10, sem sobrar resto'''\n",
        "num=88\n",
        "for n in range(1,num):\n",
        "  while True:\n",
        "    if num % n == 0:\n",
        "      break\n",
        "print(f'{n} é o menor número que pode ser dividido de 1 a 20')"
      ],
      "execution_count": null,
      "outputs": []
    },
    {
      "cell_type": "code",
      "metadata": {
        "id": "E2pkj8eLt_u7"
      },
      "source": [
        "'''EX 35''' \n",
        "'''Faça um programa que some os número ímpares contidos em um intervalo definido pelo usuário. \n",
        "O usuário define o valor incial do intervalo e o valor final deste intervalo.\n",
        "E o programa deve somar todos os números ímpares contidos neste intervalo. \n",
        "Caso o usuário digite um intervalo inválido (começando por um valor maior que o valor final) \n",
        "deve ser escrito uma mesnagem de erro na tela \"Intervalo de valores inválido\" e o programa termina. \n",
        "Exemplo de tela de saída: Digite o valor inicial e o valor final: 5 e 10.\n",
        "Soma dos ímpares deste intervalo: 21'''\n",
        "inicio=int(input('Digite o valor inicial: '))\n",
        "fim=int(input('Digite o valor final: '))\n",
        "intervalo=int(input('Digite o intervalo: '))\n",
        "soma=0\n",
        "if inicio < fim:\n",
        "  print('Intervalo de valores inválido. \\nPrograma encerrado.')\n",
        "elif inicio == fim:\n",
        "  print('Intervalo de valores inválido. \\nPrograma encerrado.')\n",
        "for n in range(inicio,fim,intervalo):\n",
        "  if n % 2 != 0:\n",
        "    soma+=n\n",
        "print(f'Soma dos valores ímpares no intervalo: {soma}')"
      ],
      "execution_count": null,
      "outputs": []
    },
    {
      "cell_type": "code",
      "metadata": {
        "id": "0JOfX1Yit_sd",
        "colab": {
          "base_uri": "https://localhost:8080/",
          "height": 51
        },
        "outputId": "44dffeff-9d65-4c44-fbd2-5d2eb1df77eb"
      },
      "source": [
        "'''EX 36''' \n",
        "'''Faça um programa quue calcule a diferença entre a soma dos quadrados dos primeiros 100 números  naturais \n",
        "e o quadrado da soma\n",
        "ex: A soma dos quadrados dos 10 primeiros números naturais é: 1²,2²,3²,4²...+10²=3025'''\n",
        "soma = 0\n",
        "for n in range(1,101): \n",
        "  soma+=n**2\n",
        "print(f'A soma dos quadrados dos 100 priemrios números naturais é: {soma}\\nQuadrado da soma: {soma**2}')"
      ],
      "execution_count": null,
      "outputs": [
        {
          "output_type": "stream",
          "text": [
            "A soma dos quadrados dos 100 priemrios números naturais é: 338350\n",
            "Quadrado da soma: 114480722500\n"
          ],
          "name": "stdout"
        }
      ]
    },
    {
      "cell_type": "code",
      "metadata": {
        "id": "yL5-48cQt_C2"
      },
      "source": [
        "'''EX 37'''\n",
        "'''Escreva um programa que verifique quais números entre 1000 e 9999(inclusive) possuem a propriedade seguinte: \n",
        "a soma dos 2 dígitos de mais baixa ordem com 2 dígitos de mais lata ordem elevada ao quadrado é igual ao próximo número.\n",
        "Para o número inteiro 3025 temos que: 30+25=55 e 55²=3025'''\n",
        "num=int(input('Digite o número de 4 dígitos: '))\n",
        "if num < 1000:\n",
        "  num+1000\n",
        "elif num > 9999:  \n",
        "  print('Número inválido.')\n"
      ],
      "execution_count": null,
      "outputs": []
    },
    {
      "cell_type": "code",
      "metadata": {
        "id": "DEFIBz5mRpPY"
      },
      "source": [
        ""
      ],
      "execution_count": null,
      "outputs": []
    },
    {
      "cell_type": "code",
      "metadata": {
        "id": "vj8z1toLyjke"
      },
      "source": [
        "'''Ex 38''' "
      ],
      "execution_count": null,
      "outputs": []
    },
    {
      "cell_type": "code",
      "metadata": {
        "id": "KZZ4Jc2LuG1C"
      },
      "source": [
        "'''EX 39''' "
      ],
      "execution_count": null,
      "outputs": []
    },
    {
      "cell_type": "code",
      "metadata": {
        "id": "6k8mcL5yuHRW"
      },
      "source": [
        "'''EX 40''' "
      ],
      "execution_count": null,
      "outputs": []
    },
    {
      "cell_type": "code",
      "metadata": {
        "id": "djDZdtXiTEKP"
      },
      "source": [
        " "
      ],
      "execution_count": null,
      "outputs": []
    }
  ]
}