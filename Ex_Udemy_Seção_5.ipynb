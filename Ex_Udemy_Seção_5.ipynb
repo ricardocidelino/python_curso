{
  "nbformat": 4,
  "nbformat_minor": 0,
  "metadata": {
    "colab": {
      "name": "Ex Udemy Seção 5.ipynb",
      "provenance": [],
      "collapsed_sections": [],
      "include_colab_link": true
    },
    "kernelspec": {
      "name": "python3",
      "display_name": "Python 3"
    }
  },
  "cells": [
    {
      "cell_type": "markdown",
      "metadata": {
        "id": "view-in-github",
        "colab_type": "text"
      },
      "source": [
        "<a href=\"https://colab.research.google.com/github/ricardocidelino/python_curso/blob/main/Ex_Udemy_Se%C3%A7%C3%A3o_5.ipynb\" target=\"_parent\"><img src=\"https://colab.research.google.com/assets/colab-badge.svg\" alt=\"Open In Colab\"/></a>"
      ]
    },
    {
      "cell_type": "code",
      "metadata": {
        "id": "XFCLfHRtoABu"
      },
      "source": [
        "'''EX 1'''\n",
        "num1=int(input('1º número: '))\n",
        "num2=int(input('2º número: '))\n",
        "if num1 > num2:\n",
        "  print(f'{num1} é o maior')\n",
        "elif num2 > num1:\n",
        "  print(f'{num2} é o maior')\n",
        "else:\n",
        "  print(f'{num1} e {num2} são iguais')\n"
      ],
      "execution_count": null,
      "outputs": []
    },
    {
      "cell_type": "code",
      "metadata": {
        "id": "hDAdHzWzoduc"
      },
      "source": [
        "'''EX 2'''\n",
        "num=int(input('Digite um número: '))\n",
        "raiz=num**0.5\n",
        "if num < 1:\n",
        "  print('número inválido')\n",
        "else:\n",
        "  print(f'{raiz:.0f}')\n"
      ],
      "execution_count": null,
      "outputs": []
    },
    {
      "cell_type": "code",
      "metadata": {
        "id": "sFXoc4y2oe6u"
      },
      "source": [
        "'''EX 3'''\n",
        "num=int(input('Digite um número: '))\n",
        "if num <0:\n",
        "  print(f'{num**2}')\n",
        "else:\n",
        "  print(f'{num**0.5}')"
      ],
      "execution_count": null,
      "outputs": []
    },
    {
      "cell_type": "code",
      "metadata": {
        "id": "UoIaQUq7ogFe"
      },
      "source": [
        "'''EX 4'''\n",
        "num=int(input('Digite o número: '))\n",
        "quadrado=num**2\n",
        "raiz=num**0.5\n",
        "print(f'{quadrado:.0f}\\n{raiz:.0f}')"
      ],
      "execution_count": null,
      "outputs": []
    },
    {
      "cell_type": "code",
      "metadata": {
        "id": "wl0exF1xoher"
      },
      "source": [
        "'''EX 5'''\n",
        "num=int(input('Digite o número: '))\n",
        "if num // 2==0:\n",
        "  print(f'O número {num} é par')\n",
        "else:\n",
        "  print(f'o número {num} é ímpar')"
      ],
      "execution_count": null,
      "outputs": []
    },
    {
      "cell_type": "code",
      "metadata": {
        "id": "ISbQBvYeojP8"
      },
      "source": [
        "'''EX 6'''\n",
        "num1=int(input('Insira o primeiro número: '))\n",
        "num2=int(input('Insira o segundo número: '))\n",
        "if num1 > num2:\n",
        "  print(f'{num1} é maior que {num2}. A diferença entre ambos é {num1-num2}.')\n",
        "elif num2 > num1:\n",
        "  print(f'{num2} é maior que {num1}. A diferença entre ambos é {num2-num1}.'\n",
        "else:\n",
        "  print(f'{num1}é igual {num2}.')\n"
      ],
      "execution_count": null,
      "outputs": []
    },
    {
      "cell_type": "code",
      "metadata": {
        "id": "M-38LUTZoklN"
      },
      "source": [
        "'''EX 7'''\n",
        "num1=int(input('1º número: '))\n",
        "num2=int(input('2º número: '))\n",
        "if num1 > num2:\n",
        "  print(f'{num1} é o maior')\n",
        "elif num2 > num1:\n",
        "  print(f'{num2} é o maior')\n",
        "else:\n",
        "  print(f'{num1} e {num2} são iguais')\n",
        "\n",
        "  "
      ],
      "execution_count": null,
      "outputs": []
    },
    {
      "cell_type": "code",
      "metadata": {
        "id": "7mOc3Wrzos1R"
      },
      "source": [
        "'''EX 8'''\n",
        "soma = 0\n",
        "for n in range(0,3):\n",
        "  nota=int(input(f'Insira a {n+1}º nota: '))\n",
        "  if nota < 0:\n",
        "    nota=int(input('informar corretamente de 0 a 10:'))\n",
        "  elif nota > 10:\n",
        "    nota=int(input('informar corretamente de 0 a 10:'))    \n",
        "  else:\n",
        "    soma = soma + nota\n",
        "media=soma/3\n",
        "print(f'Sua média foi de {media:.1f}\\n')"
      ],
      "execution_count": null,
      "outputs": []
    },
    {
      "cell_type": "code",
      "metadata": {
        "id": "WBZ-aHbqotJs"
      },
      "source": [
        "'''EX 9'''\n",
        "salario=int(input('Digite o salário: '))\n",
        "parcela=int(input('Digite a parcela: '))\n",
        "if parcela <= salario*0.2:\n",
        "  print('Empréstimo aprovado')\n",
        "else:\n",
        "  print('Empréstimo reprovado')"
      ],
      "execution_count": null,
      "outputs": []
    },
    {
      "cell_type": "code",
      "metadata": {
        "id": "sqarunvnosxr"
      },
      "source": [
        "'''EX 10'''\n",
        "sexo=str(input('Digite o sexo: '))\n",
        "altura=float(input('Digite sua altura: '))\n",
        "if sexo in 'Mm':\n",
        "  homem=(72.7*altura)-58\n",
        "  print(f'seu peso ideal é: {homem:.2f}')\n",
        "elif sexo in 'Ff':\n",
        "  mulher=(62.1*altura)-44.7\n",
        "  print(f'seu peso ideal é: {mulher:.2f}')\n",
        "else:\n",
        "  sexo=str(input('Digite o sexo corretamente: M/F'))"
      ],
      "execution_count": null,
      "outputs": []
    },
    {
      "cell_type": "code",
      "metadata": {
        "id": "UCISs620oxcC",
        "colab": {
          "base_uri": "https://localhost:8080/",
          "height": 51
        },
        "outputId": "1e44bc64-ed85-45f2-cea5-ed1fc8d63043"
      },
      "source": [
        "'''EX 11'''\n",
        "num=str(input('Digite o número: ')).strip()\n",
        "print(num[2],num[1],num[0])"
      ],
      "execution_count": null,
      "outputs": [
        {
          "output_type": "stream",
          "text": [
            "Digite o número: 123\n",
            "3 2 1\n"
          ],
          "name": "stdout"
        }
      ]
    },
    {
      "cell_type": "code",
      "metadata": {
        "id": "IztBD7cKoyq3"
      },
      "source": [
        "'''EX 12'''\n"
      ],
      "execution_count": null,
      "outputs": []
    },
    {
      "cell_type": "code",
      "metadata": {
        "id": "a90UIL8Eo2-y",
        "colab": {
          "base_uri": "https://localhost:8080/",
          "height": 85
        },
        "outputId": "a485b256-00c6-4fa0-fbd3-9cc3bf9713df"
      },
      "source": [
        "'''EX 13'''\n",
        "nota1=float(input('Digitea primeira nota: '))\n",
        "nota2=float(input('Digite a segunda nota:'))\n",
        "nota3=float(input('Digite a terceira nota: '))\n",
        "media=(nota1+nota2+(nota3*2))*3\n",
        "if media > 59.9:   \n",
        "  print(f'{media} Aprovado')\n",
        "else:\n",
        "  print(f'{media} Reprovado')"
      ],
      "execution_count": null,
      "outputs": [
        {
          "output_type": "stream",
          "text": [
            "Digitea primeira nota: 4\n",
            "Digite a segunda nota:4\n",
            "Digite a terceira nota: 4\n",
            "48.0 Reprovado\n"
          ],
          "name": "stdout"
        }
      ]
    },
    {
      "cell_type": "code",
      "metadata": {
        "id": "KIx2Z5Bto01j",
        "colab": {
          "base_uri": "https://localhost:8080/",
          "height": 85
        },
        "outputId": "2ce2e4dd-45ad-4f7f-e58e-cb42698b279b"
      },
      "source": [
        "'''EX 14'''\n",
        "nota1=float(input('Digite a primeira nota: '))\n",
        "nota2=float(input('Digite a segunda nota: '))\n",
        "nota3=float(input('Digite a terceira nota: '))\n",
        "media=((nota1*2)+(nota2*3)+(nota3*5))/10\n",
        "if media > 5.99:\n",
        "  print(f'{media:.1f} aprovado')\n",
        "elif media > 2.99:\n",
        "  print(f'{media:.1f} reforço')\n",
        "else:\n",
        "  print(f'{media:.1f} reprovado')\n"
      ],
      "execution_count": null,
      "outputs": [
        {
          "output_type": "stream",
          "text": [
            "Digite a primeira nota: 9\n",
            "Digite a segunda nota: 9\n",
            "Digite a terceira nota: 9\n",
            "9.0 aprovado\n"
          ],
          "name": "stdout"
        }
      ]
    },
    {
      "cell_type": "code",
      "metadata": {
        "id": "Z6xOJs_2o18b",
        "colab": {
          "base_uri": "https://localhost:8080/",
          "height": 51
        },
        "outputId": "cd4d19fc-ab4f-4451-cf92-963451614760"
      },
      "source": [
        "'''EX 15'''\n",
        "num=int(input('Digite o número do dia: '))\n",
        "if num == 1:\n",
        "  print('Domingo')\n",
        "elif num == 2:\n",
        "  print('Segunda')\n",
        "elif num == 3:\n",
        "  print('Quarta')\n",
        "elif num == 4:\n",
        "  print('Quinta')\n",
        "elif num == 6:\n",
        "  print('Sexta')\n",
        "else:\n",
        "  print('Sábado')"
      ],
      "execution_count": null,
      "outputs": [
        {
          "output_type": "stream",
          "text": [
            "Digite o número do dia: 2\n",
            "Segunda\n"
          ],
          "name": "stdout"
        }
      ]
    },
    {
      "cell_type": "code",
      "metadata": {
        "id": "VWWrvXl2o4Qm",
        "colab": {
          "base_uri": "https://localhost:8080/",
          "height": 51
        },
        "outputId": "4635ad91-ffa9-46a1-be97-fb03522fce65"
      },
      "source": [
        "'''EX 16'''\n",
        "num=int(input('Digite o número do mês: '))\n",
        "if num == 1:\n",
        "  print('Janeiro')\n",
        "elif num == 2:\n",
        "  print('fevereiro')\n",
        "elif num == 3:\n",
        "  print('Março')\n",
        "elif num == 4:\n",
        "  print('Abril')\n",
        "elif num == 5:\n",
        "  print('Maio')\n",
        "elif num == 6:\n",
        "  print('Junho')\n",
        "elif num == 7:\n",
        "  print('Julho')\n",
        "elif num == 8:\n",
        "  print('Agosto')\n",
        "elif num == 9:\n",
        "  print('Setembro')\n",
        "elif num == 10:\n",
        "  print('Outubro')\n",
        "elif num == 11:\n",
        "  print('Novembro')\n",
        "else:\n",
        "  print('Dezembro')"
      ],
      "execution_count": null,
      "outputs": [
        {
          "output_type": "stream",
          "text": [
            "Digite o número do mês: 9\n",
            "Setembro\n"
          ],
          "name": "stdout"
        }
      ]
    },
    {
      "cell_type": "code",
      "metadata": {
        "id": "iY88isi-o5Tc",
        "colab": {
          "base_uri": "https://localhost:8080/",
          "height": 102
        },
        "outputId": "0bf15315-2936-4202-9fbc-986222f96448"
      },
      "source": [
        "'''EX 17'''\n",
        "base1=float(input('Digite a base maior: '))\n",
        "if base1 < 0:\n",
        "  base1=float(input('Digite acima de 0: '))\n",
        "base2=float(input('Digite a base menor: '))\n",
        "if base2 < 0:\n",
        "  base2=float(input('Digite acima de 0: '))\n",
        "altura=float(input('Digite a altura: '))\n",
        "trapezio=((base1+base2)*altura)/2\n",
        "print(trapezio)\n",
        "\n"
      ],
      "execution_count": null,
      "outputs": [
        {
          "output_type": "stream",
          "text": [
            "Digite a base maior: 1\n",
            "Digite a base menor: 0.2\n",
            "Digite acima de 1: 1\n",
            "Digite a altura: 9\n",
            "9.0\n"
          ],
          "name": "stdout"
        }
      ]
    },
    {
      "cell_type": "code",
      "metadata": {
        "id": "hbmY-k1Io6dd"
      },
      "source": [
        "'''EX 18'''\n",
        "print('Escolha a operação que deseja:')\n",
        "ope=int(input('1 - Adição\\n2 - Subtração\\n3 - Multiplicação\\n4 - Divisão\\n5 - Encerrar'))\n",
        "if ope == 1:\n",
        "  num1=int(input('Digite o primeiro número: '))\n",
        "  num2=int(input('Digite o segundo número: '))\n",
        "  print('Você escolheu Adição:')\n",
        "  adicao=num1+num2\n",
        "  print(adicao)\n",
        "elif ope == 2:\n",
        "  num1=int(input('Digite o primeiro número: '))\n",
        "  num2=int(input('Digite o segundo número: '))\n",
        "  print('Você escolheu Subtração')\n",
        "  sub=num1-num2\n",
        "  print(sub)\n",
        "elif ope == 3:\n",
        "  num1=int(input('Digite o primeiro número: '))\n",
        "  num2=int(input('Digite o segundo número: '))\n",
        "  print('Você escolheu Multiplicação')\n",
        "  mult=num1*num2\n",
        "  print(mult)\n",
        "elif ope == 4:\n",
        "  num1=int(input('Digite o primeiro número: '))\n",
        "  num2=int(input('Digite o segundo número: '))\n",
        "  print('Você escolheu Divisão')\n",
        "  div=num1/num2\n",
        "  print(div)\n",
        "else:\n",
        "  print('Programa encerrado')"
      ],
      "execution_count": null,
      "outputs": []
    },
    {
      "cell_type": "code",
      "metadata": {
        "id": "G4N_rEANo8Fs",
        "colab": {
          "base_uri": "https://localhost:8080/",
          "height": 85
        },
        "outputId": "45486b90-2bc7-427d-ab8c-9ecf1e73176c"
      },
      "source": [
        "number = int(input('Digite um número: '))\n",
        "total = 0\n",
        "for c in range(1, number+1):\n",
        "    #contador = contador + 1\n",
        "    if number % c == 0:\n",
        "        print('\\033[33m', end=' ')\n",
        "        total += 1\n",
        "    else:\n",
        "        print('\\033[31m', end=' ')\n",
        "    print('{} '.format(c), end=' ')\n",
        "print('\\033[30m\\nO número {} foi divisível {} vezes.\\033[m'.format(number, total))\n",
        "if total <= 2:\n",
        "    print('O número \\033[32mÉ PRIMO!\\033[m')\n",
        "else:\n",
        "    print('O número \\033[31mNÃO É PRIMO!\\033[m')"
      ],
      "execution_count": null,
      "outputs": [
        {
          "output_type": "stream",
          "text": [
            "Digite um número: 9\n",
            "\u001b[33m 1  \u001b[31m 2  \u001b[33m 3  \u001b[31m 4  \u001b[31m 5  \u001b[31m 6  \u001b[31m 7  \u001b[31m 8  \u001b[33m 9  \u001b[30m\n",
            "O número 9 foi divisível 3 vezes.\u001b[m\n",
            "O número \u001b[31mNÃO É PRIMO!\u001b[m\n"
          ],
          "name": "stdout"
        }
      ]
    },
    {
      "cell_type": "code",
      "metadata": {
        "id": "a9eJw21Xy4A9"
      },
      "source": [
        "'''EX 19'''\n",
        "num=int(input('Digite um número: '))\n",
        "if num % 3 == 0:\n",
        "  print(f'{num} é divisível por 3.')\n",
        "elif num % 5 == 0:\n",
        "  print(f'{num} é divisível por 5.')\n",
        "else:\n",
        "  print(f'{num} não é divisível.')"
      ],
      "execution_count": null,
      "outputs": []
    },
    {
      "cell_type": "code",
      "metadata": {
        "id": "kptYfF7Zo9HU"
      },
      "source": [
        "'''EX 20'''"
      ],
      "execution_count": null,
      "outputs": []
    },
    {
      "cell_type": "code",
      "metadata": {
        "id": "qusrNwLLo-wk"
      },
      "source": [
        "'''EX 21'''\n",
        "print('Escolha a opção:\\n1 - Soma de 2 números:\\n2 - Diferença entre 2 números(maior pelo menor)')\n",
        "print('3 - Produto entre 2 números\\n4 - Divisão entre 2 números(denominador não pode ser 0)\\n5- Encerrar')\n",
        "while True:\n",
        "  option=int(input('Escolha uma das opções acima: '))\n",
        "  num1=int(input('Digite o primeiro número: '))\n",
        "  num2=int(input('Digite o segundo número: '))\n",
        "  simbo=''\n",
        "  if option == 1:\n",
        "    opera = num1+num2\n",
        "    simbo = '+'\n",
        "    print(f'Você escolheu a opção {option}. \\n{num1} {simbo} {num2} = {opera}')\n",
        "    continua=str(input('Deseja continuar? S/N'))\n",
        "    if continua in 'Ss':      \n",
        "      option=str(input('Escolha uma das operações: '))\n",
        "      if option not in '1234':\n",
        "        print('Programa Encerrado.')\n",
        "        break\n",
        "    else: \n",
        "      print('Programa Encerrado.')\n",
        "      break\n",
        "  elif option == 2:\n",
        "    opera = num1 - num2\n",
        "    simbo = '-'\n",
        "    print(f'Você escolheu a opção {option}. \\n{num1} {simbo} {num2} = {opera}')\n",
        "    continua=str(input('Deseja continuar? S/N'))\n",
        "    if continua in 'Ss':      \n",
        "      option=str(input('Escolha uma das operações: '))\n",
        "      if option not in '1234':\n",
        "        print('Programa Encerrado.')\n",
        "        break\n",
        "    else: \n",
        "      print('Programa Encerrado.')\n",
        "      break\n",
        "  elif option == 3:\n",
        "    opera = num1*num2\n",
        "    simbo = '*'\n",
        "    print(f'Você escolheu a opção {option}. \\n{num1} {simbo} {num2} = {opera}')\n",
        "    continua=str(input('Deseja continuar? S/N'))\n",
        "    if continua in 'Ss':      \n",
        "      option=str(input('Escolha uma das operações: '))\n",
        "      if option not in '1234':\n",
        "        print('Programa Encerrado.')\n",
        "        break\n",
        "    else:\n",
        "      print('Programa Encerrado.') \n",
        "      break\n",
        "  elif option == 4:\n",
        "    opera = num1/num2\n",
        "    simbo = ':'\n",
        "    print(f'Você escolheu a opção {option}. \\n{num1} {simbo} {num2} = {opera}')\n",
        "    continua=str(input('Deseja continuar? S/N'))\n",
        "    if continua in 'Ss':      \n",
        "      option=str(input('Escolha uma das operações: '))\n",
        "      if option not in '1234':\n",
        "        print('Programa Encerrado.')\n",
        "        break\n",
        "    else: \n",
        "      print('Programa Encerrado.')\n",
        "      break\n",
        "  else:     \n",
        "    print('Programa Encerrado.')\n",
        "    break"
      ],
      "execution_count": null,
      "outputs": []
    },
    {
      "cell_type": "code",
      "metadata": {
        "id": "uHNYgm0Do_4A",
        "colab": {
          "base_uri": "https://localhost:8080/",
          "height": 68
        },
        "outputId": "7a6dc36b-5bb5-4455-b016-747ea61145e7"
      },
      "source": [
        "'''EX 22''' \n",
        "idade=int(input('Digite a idade: '))\n",
        "if idade < 46:\n",
        "  trabalho=int(input('Digite o tempo de serviço: '))\n",
        "  if trabalho < 30:\n",
        "    print('Infelizmente você não atende os pré requisitos')\n",
        "  else:\n",
        "    print('Aposentadoria aprovada.')\n",
        "elif idade < 60:\n",
        "  trabalho=int(input('Digite o tempo de serviço: '))\n",
        "  if trabalho < 25:\n",
        "    print('Infelizmente você não atende os pré requisitos')\n",
        "  else: \n",
        "    print('Aposentadoria aprovada')\n",
        "elif idade > 64:\n",
        "  print('Aposentadoria aprovada')\n",
        "else:\n",
        "  print('Procure uma agência caixa')"
      ],
      "execution_count": null,
      "outputs": [
        {
          "output_type": "stream",
          "text": [
            "Digite a idade: 50\n",
            "Digite o tempo de serviço: 26\n",
            "Aposentadoria aprovada\n"
          ],
          "name": "stdout"
        }
      ]
    },
    {
      "cell_type": "code",
      "metadata": {
        "id": "9h32C692pBOG",
        "colab": {
          "base_uri": "https://localhost:8080/",
          "height": 51
        },
        "outputId": "5113415d-14a2-4635-cceb-e01f1fa19f1f"
      },
      "source": [
        "'''EX 23'''\n",
        "ano=int(input('Digite o ano: '))\n",
        "if ano % 400 == 0:\n",
        "  print('Bissexto')\n",
        "elif ano % 4 == 0 and ano % 100 != 0:\n",
        "  print('Bissexto')\n",
        "else:\n",
        "  print('Não é bissexto')\n"
      ],
      "execution_count": null,
      "outputs": [
        {
          "output_type": "stream",
          "text": [
            "Digite o ano: 2004\n",
            "Bissexto\n"
          ],
          "name": "stdout"
        }
      ]
    },
    {
      "cell_type": "code",
      "metadata": {
        "id": "TZm2FyPBpEDN"
      },
      "source": [
        "'''EX 24'''\n",
        "cif=int(input('Digite o valor do produto: '))\n",
        "uf=str(input('Digite o estado de destino: ')).upper()\n",
        "if uf not in 'SPPIMAMSMTCEMGAMSCPRRSRNESRJRRROAMTOGODFPEPBALBAPAAC':\n",
        "  print('Escolha o estado correto.')\n",
        "else:\n",
        "  if uf == 'SP':\n",
        "    icms=cif*1.32\n",
        "    print(f'Valor com ICMS incluso: {icms}')\n",
        "  elif uf == 'RJ':\n",
        "    icms == cif*1.28\n",
        "    print(f'Valor com ICMS incluso: {icms}')\n",
        "  elif uf == 'SCPR':\n",
        "    icms == cif*1.22\n",
        "  elif uf == 'MGES':\n",
        "    icms == cif*1.18\n",
        "    print(f'Valor com ICMS incluso: {icms}')\n",
        "  elif uf == 'MAPBPERNBACEPI':\n",
        "    icms == cif*1.16\n",
        "    print(f'Valor com ICMS incluso: {icms}')\n",
        "  else:\n",
        "    icms == cif*1.12\n",
        "    print(f'Valor com ICMS incluso: {icms}')"
      ],
      "execution_count": null,
      "outputs": []
    },
    {
      "cell_type": "code",
      "metadata": {
        "id": "pKJHxtXUpFk_"
      },
      "source": [
        "'''EX 25'''\n"
      ],
      "execution_count": null,
      "outputs": []
    },
    {
      "cell_type": "code",
      "metadata": {
        "id": "0R_vj4eYt4ng"
      },
      "source": [
        "'''EX 26'''\n",
        "km=int(input('Digite a distância em km: '))\n",
        "lt=int(input('Digite a quantidade em litros: '))\n",
        "consumo=km/lt\n",
        "if consumo < 6:\n",
        "  print(f'{consumo:.1f} km/l: Venda o Carro')\n",
        "elif consumo < 11:\n",
        "  print(f'{consumo:.1f} km/l: Econômico')\n",
        "else:\n",
        "  print(f'{consumo:.1f} km/l: Super Econômico!')"
      ],
      "execution_count": null,
      "outputs": []
    },
    {
      "cell_type": "code",
      "metadata": {
        "id": "56dW8_BXt5BD",
        "colab": {
          "base_uri": "https://localhost:8080/",
          "height": 51
        },
        "outputId": "9b355775-4759-4700-b066-b15afb0a193c"
      },
      "source": [
        "'''EX 27'''\n",
        "age=int(input('Digite a idade do atleta: '))\n",
        "print(f'{age} anos, categoria: ', end='')\n",
        "if age < 8:\n",
        "  print('Infantil A')\n",
        "elif age < 11:\n",
        "  print('Infantil B')\n",
        "elif age < 14:\n",
        "  print('Juvenil A')\n",
        "elif age < 18:\n",
        "  print('Juvenil B')\n",
        "else:\n",
        "  print('Sênior')"
      ],
      "execution_count": null,
      "outputs": [
        {
          "output_type": "stream",
          "text": [
            "Digite a idade do atleta: 32\n",
            "32 anos, categoria: Sênior\n"
          ],
          "name": "stdout"
        }
      ]
    },
    {
      "cell_type": "code",
      "metadata": {
        "id": "NMtJ_Iyot49c"
      },
      "source": [
        "'''EX 29'''\n",
        "print('*-*-'*10)\n",
        "print('-'*12,'Vamos brincar?','-'*12)\n",
        "print('*-*-'*10)\n",
        "from random import randint\n",
        "acerto=0\n",
        "for n in range (0,5):\n",
        "  ram1=randint(1,99)\n",
        "  ram2=randint(1,99)\n",
        "  soma=ram1+ram2\n",
        "  kid=int(input(f'Qual a soma dos números abaixo?\\n {ram1} + {ram2} = '))\n",
        "  if kid == soma:\n",
        "    acerto=acerto+1\n",
        "    print('Você acertou!')    \n",
        "  else:\n",
        "    print('Não foi desta vez :(')\n",
        "print(f'Você acertou {acerto} vezes')"
      ],
      "execution_count": null,
      "outputs": []
    },
    {
      "cell_type": "code",
      "metadata": {
        "id": "7FS4PL9ct42N"
      },
      "source": [
        "'''EX 30'''\n",
        "lista=list()\n",
        "for n in range(0,3):\n",
        "  num=int(input(f'Digite o {n+1}º número: '))\n",
        "  lista.append(num) \n",
        "print(lista)"
      ],
      "execution_count": null,
      "outputs": []
    },
    {
      "cell_type": "code",
      "metadata": {
        "id": "bsMNaPz1t4h7"
      },
      "source": [
        "'''EX 31'''\n",
        "altura=float(input('Digite a altura: '))\n",
        "peso=float(input('Digite o peso: '))\n",
        "if altura < 1.2:\n",
        "  if peso < 61:\n",
        "    print('categoria A')\n",
        "  elif peso < 91:\n",
        "    print('Categoria D')\n",
        "  else:\n",
        "    print('Categoria G')\n",
        "elif altura < 1.70:\n",
        "  if peso < 61:\n",
        "    print('Categoria B')\n",
        "  elif peso < 91:\n",
        "    print('Categoria E')\n",
        "  else:\n",
        "    print('Categoria H')\n",
        "else:\n",
        "  if peso < 61:\n",
        "    print('Categoria C')\n",
        "  elif peso < 91:\n",
        "    print('Categoria F')\n",
        "  else:\n",
        "    print('Categoria I')"
      ],
      "execution_count": null,
      "outputs": []
    },
    {
      "cell_type": "code",
      "metadata": {
        "id": "aKYUvFjyt_HG"
      },
      "source": [
        "'''EX 32'''\n",
        "   "
      ],
      "execution_count": null,
      "outputs": []
    },
    {
      "cell_type": "code",
      "metadata": {
        "id": "GrZ-o-6Rt_zq"
      },
      "source": [
        "'''EX 33'''\n",
        "   "
      ],
      "execution_count": null,
      "outputs": []
    },
    {
      "cell_type": "code",
      "metadata": {
        "id": "maDzYnSet_xN"
      },
      "source": [
        "'''EX 34'''\n",
        "  "
      ],
      "execution_count": null,
      "outputs": []
    },
    {
      "cell_type": "code",
      "metadata": {
        "id": "E2pkj8eLt_u7"
      },
      "source": [
        "'''EX 35'''\n",
        "  "
      ],
      "execution_count": null,
      "outputs": []
    },
    {
      "cell_type": "code",
      "metadata": {
        "id": "0JOfX1Yit_sd"
      },
      "source": [
        "'''EX 36'''\n",
        " "
      ],
      "execution_count": null,
      "outputs": []
    },
    {
      "cell_type": "code",
      "metadata": {
        "id": "yL5-48cQt_C2"
      },
      "source": [
        "'''EX 37'''\n",
        "  "
      ],
      "execution_count": null,
      "outputs": []
    },
    {
      "cell_type": "code",
      "metadata": {
        "id": "vj8z1toLyjke"
      },
      "source": [
        "'''Ex 38'''\n",
        "  "
      ],
      "execution_count": null,
      "outputs": []
    },
    {
      "cell_type": "code",
      "metadata": {
        "id": "KZZ4Jc2LuG1C"
      },
      "source": [
        "'''EX 39'''\n",
        "  "
      ],
      "execution_count": null,
      "outputs": []
    },
    {
      "cell_type": "code",
      "metadata": {
        "id": "6k8mcL5yuHRW"
      },
      "source": [
        "'''EX 40'''\n",
        " "
      ],
      "execution_count": null,
      "outputs": []
    },
    {
      "cell_type": "code",
      "metadata": {
        "id": "djDZdtXiTEKP"
      },
      "source": [
        " '''EX 41'''\n"
      ],
      "execution_count": null,
      "outputs": []
    }
  ]
}